{
 "cells": [
  {
   "cell_type": "markdown",
   "metadata": {},
   "source": [
    "# Intervalos de Confianza\n",
    "\n",
    "# $\\huge \\textbf{Resumencito}$\n",
    "\n",
    "---\n",
    "\n"
   ]
  },
  {
   "cell_type": "markdown",
   "metadata": {},
   "source": [
    "> En estadística, se llama ***intervalo de confianza*** a un par o varios **pares de números** entre los cuales se **estima que estará cierto valor desconocido** con una determinada **probabilidad de acierto**.\n",
    ">\n",
    "> Formalmente, estos números determinan un **intervalo**, que se calcula a partir de **datos de una muestra**, y el valor **desconocido** es un **parámetro poblacional**.\n",
    ">\n",
    "> La probabilidad de éxito en la estimación se representa con $1 - \\alpha$ y se denomina **nivel de confianza**.\n",
    ">\n",
    "> En estas circunstancias, $\\alpha$ es el llamado ***error aleatorio*** o ***nivel de significación***, esto es, una **medida de las posibilidades de fallar** en la estimación mediante tal intervalo.\n",
    ">\n",
    "> > [*es.wikipedia.org/wiki/Intervalo_de_confianza*](https://es.wikipedia.org/wiki/Intervalo_de_confianza)\n",
    "\n",
    "* Un **intervalo de confianza** es **una estimación** de un **parámetro** \n",
    "\n",
    "* **En vez de ser puntual** (un solo valor, como en *estimadores de momentos*, *MV*, etc), da un **rango de valores en forma de intervalo**."
   ]
  },
  {
   "cell_type": "markdown",
   "metadata": {},
   "source": [
    "# Mundo Normal (Gaussiano)\n",
    "\n",
    "$\\mathbf x = \\{X_1, X_2, \\dots, X_n \\}$ muestra aleatoria\n",
    "\n",
    "$$\\huge X_i \\sim \\mathcal{N}(\\mu, \\sigma^2)$$\n",
    "\n",
    "Para muestras de esta distribución, tenemos **cuatro** posibles **estimaciones de parámetro** a representar con un **intervalo de confianza**:\n",
    "\n",
    "1. Queremos estimar $\\mu$ **conociendo** el valor de $\\sigma^2$ (notamos $\\sigma_0^2$)\n",
    "\n",
    "2. Queremos estimar $\\mu$ **sin conocer** el valor de $\\sigma^2$\n",
    "\n",
    "3. Queremos estimar $\\sigma^2$ **conociendo** el valor de $\\mu$ (notamos $\\mu_0$)\n",
    "\n",
    "4. Queremos estimar $\\sigma^2$ **sin conocer** el valor de $\\mu$"
   ]
  },
  {
   "cell_type": "markdown",
   "metadata": {},
   "source": [
    "# Queremos estimar $\\mu$ \n",
    "\n",
    "   > $$\\large P\\left( \\ a(\\mathbf x) < \\mu < b(\\mathbf x) \\ \\right) = 1 - \\alpha$$\n",
    "   >\n",
    "   >Con $a, b$ funciones de la muestra aleatoria $\\mathbf x$\n",
    "\n",
    "# 1. ***conociendo*** el valor $\\sigma_0^2$\n",
    "   **Pivot:**\n",
    "   >$$\\large \\frac {\\bar X_n - \\mu}{\\sqrt \\frac {\\sigma_0^2}{n}} \\  \\sim \\ \\mathcal{N}(0, 1)$$\n",
    "   \n",
    "   **Intervalo de Confianza de nivel** $1 - \\alpha$ **para** $\\mu$\n",
    "   \n",
    "   >$$\\large IC_{1-\\alpha} = \\left( \\bar X_n - \\sqrt \\frac {\\sigma_0^2}{n} \\ \\ \\ , \\ \\  \\bar X_n + \\sqrt \\frac {\\sigma_0^2}{n} \\right)$$"
   ]
  },
  {
   "cell_type": "markdown",
   "metadata": {},
   "source": [
    "# 2. ***sin conocer*** el valor de $\\sigma^2$\n",
    "\n",
    "   **Pivot:**\n",
    "   > No tengo $\\sigma_0^2$, uso estimación \"**varianza muestral**\": $S^2$\n",
    "   >\n",
    "   > Ésto cambia (para **peor**) la distribución a una **t-Student** con $n-1$ grados de libertad\n",
    "   >\n",
    "   >$$\\large \\frac {\\bar X_n - \\mu}{\\sqrt \\frac {S^2}{n}}  \\  \\sim \\ t_{n-1}$$\n",
    "   >\n",
    "   >Donde $S^2 = \\sum_{i=1}^n \\frac {(X_i - \\bar X_n)^2}{n-1}$\n",
    "   \n",
    "   **Intervalo de Confianza de nivel** $1 - \\alpha$ **para** $\\mu$\n",
    "   \n",
    "   >$$\\large IC_{1-\\alpha} = \\left( \\bar X_n - \\sqrt \\frac {S^2}{n} \\ \\ \\ , \\ \\  \\bar X_n + \\sqrt \\frac {S^2}{n} \\right)$$\n"
   ]
  },
  {
   "cell_type": "markdown",
   "metadata": {},
   "source": [
    "# Queremos estimar $\\sigma^2$ \n",
    "\n",
    "> $$\\large P\\left( \\ a(\\mathbf x) < \\sigma^2 < b(\\mathbf x) \\ \\right) = 1 - \\alpha$$\n",
    ">  \n",
    "> Con $a, b$ funciones de la muestra aleatoria $\\mathbf x$\n",
    "\n",
    "# 3. ***conociendo*** el valor $\\mu_0$\n",
    "   \n",
    "   **Pivot:**\n",
    "   >$$\\large \\frac {\\sum_{i=1}^n \\left( X_i - \\mu_0 \\right)^2} {\\sigma^2}  \\  \\sim \\ \\chi_{n}^2$$\n",
    "   >\n",
    "   >Donde $\\chi_{n}^2 = \\Gamma (\\alpha = \\frac n 2 , \\lambda = \\frac 1 2) \\sim \\sum_{i=1}^n Z_i^2$\n",
    "   >\n",
    "   > con $Z_i \\sim \\mathcal N (0,1)$ \n",
    "   \n",
    "   **Intervalo de Confianza de nivel** $1 - \\alpha$ **para** $\\sigma^2$\n",
    "   \n",
    "   >$$\\large IC_{1-\\alpha} = \\left( \\frac {\\sum_{i=1}^n \\left( X_i - \\mu_0 \\right)^2} {\\chi_{n, \\frac \\alpha 2}^2} \\ \\ \\ , \\ \\  \\frac {\\sum_{i=1}^n \\left( X_i - \\mu_0 \\right)^2} {\\chi_{n, 1 - \\frac \\alpha 2}^2} \\right)$$"
   ]
  },
  {
   "cell_type": "markdown",
   "metadata": {},
   "source": [
    "# 4. ***sin conocer*** el valor de $\\mu$\n",
    "\n",
    "   **Pivot:**\n",
    "   > No tengo $\\mu_0$, uso estimación \"promedio\": $\\bar X_n$\n",
    "   >\n",
    "   > Ésto cambia (para **peor**) la distribución a una **Chi** con $n-1$ grados de libertad\n",
    "   >\n",
    "   >$$\\large \\frac {\\sum_{i=1}^n \\left( X_i - \\bar X_n \\right)^2} {\\sigma^2}  \\  \\sim \\ \\chi_{n-1}^2$$\n",
    "   >\n",
    "   >Donde $\\chi_{n-1}^2 = \\Gamma (\\alpha = \\frac {n-1} 2 , \\lambda = \\frac 1 2) \\sim \\sum_{i=1}^{n} Z_i^2$\n",
    "   >\n",
    "   > con $Z_i \\sim \\mathcal N (0,1)$ \n",
    "   \n",
    "   **Intervalo de Confianza de nivel** $1 - \\alpha$ **para** $\\sigma^2$\n",
    "   \n",
    "   >$$\\large IC_{1-\\alpha} = \\left( \\frac {\\sum_{i=1}^n \\left( X_i - \\bar X_n \\right)^2} {\\chi_{{n-1}, \\frac \\alpha 2}^2} \\ \\ \\ , \\ \\  \\frac {\\sum_{i=1}^n \\left( X_i - \\bar X_n \\right)^2} {\\chi_{{n-1}, 1 - \\frac \\alpha 2}^2} \\right)$$"
   ]
  },
  {
   "cell_type": "markdown",
   "metadata": {},
   "source": [
    "# Mundo Exponencial\n",
    "\n",
    "$\\mathbf x = \\{X_1, X_2, \\dots, X_n \\}$ muestra aleatoria\n",
    "\n",
    "$$\\huge X_i \\sim \\mathcal{E}(\\lambda)$$\n",
    "\n",
    "Para muestras de esta distribución, tenemos **una sola estimacion de parámetro** posible a representar con un **intervalo de confianza**.\n",
    "\n",
    "> $$\\large P\\left( \\ a(\\mathbf x) < \\lambda < b(\\mathbf x) \\ \\right) = 1 - \\alpha$$\n",
    ">  \n",
    "> Con $a, b$ funciones de la muestra aleatoria $\\mathbf x$\n",
    "\n",
    "**Aunque** existen otros valores a estimar, como función del parámetro $\\lambda$\n",
    "\n",
    "Ej: \n",
    "\n",
    "* Para $E\\ [ X_1 \\, ] = \\frac 1 \\lambda$\n",
    "   > $$\\large P\\left( \\ a(\\mathbf x) < E\\ [ X_1 \\, ] < b(\\mathbf x) \\ \\right) = 1 - \\alpha$$\n",
    "\n",
    "\n",
    "* Para $V\\ [ X_1 \\, ] = \\frac 1 {\\lambda^2}$\n",
    "   > $$\\large P\\left( \\ a(\\mathbf x) < V\\ [ X_1 \\, ] < b(\\mathbf x) \\ \\right) = 1 - \\alpha$$\n",
    "\n",
    "**Pivot:**\n",
    "\n",
    "Notar:\n",
    "\n",
    "> Como\n",
    ">\n",
    ">$$\\large 2 \\lambda X_1 \\sim \\mathcal E \\left(\\frac 1 2 \\right) = \\Gamma \\left(1, \\frac 1 2 \\right)$$\n",
    ">\n",
    "> Entonces:\n",
    ">\n",
    ">$$\\huge 2 \\lambda \\sum_{i=1}^n X_i \\sim \\mathcal E \\left(\\frac 1 2 \\right) = \\Gamma \\left(n, \\frac 1 2 \\right) = \\chi_{2n}^2$$\n",
    "\n",
    "Partiendo de una muestra de $n$ exponenciales, llegamos a una distribución $\\chi_{2n}^2$\n",
    "\n",
    "Pivot: \n",
    "\n",
    "$$\\large 2 \\lambda \\sum_{i=1}^n X_i \\sim \\chi_{2n}^2$$\n",
    "\n",
    "**Intervalo de Confianza de nivel** $1 - \\alpha$ **para** $\\lambda$\n",
    "   \n",
    "> $$\\large IC_{1-\\alpha} = \\left( \\frac {\\chi_{{2n}, 1 - \\frac \\alpha 2}^2}{2 \\sum_{i=1}^n X_i}  \\ \\ \\ , \\ \\  \\frac  {\\chi_{{2n}, \\frac \\alpha 2}^2}{2 \\sum_{i=1}^n X_i} \\right)$$\n",
    "\n",
    "**Intervalo de Confianza de nivel** $1 - \\alpha$ **para** $E [ X ] = \\frac 1 \\lambda$\n",
    "\n",
    "> Sabemos\n",
    ">\n",
    "> $$P\\left( \\ a(\\mathbf x) < \\lambda < b(\\mathbf x) \\ \\right) = 1 - \\alpha$$\n",
    ">\n",
    "> Queremos\n",
    ">\n",
    "> $$ P\\left( \\ c(\\mathbf x) < E[X_1] < d(\\mathbf x) \\ \\right) = 1 - \\alpha$$\n",
    ">\n",
    "> Como $E[X_1] = \\frac 1 \\lambda$, aplico $g(x) = \\frac 1 x$ a cada término, y cambio desigualdades\n",
    ">\n",
    "> $$ P\\left( \\ \\frac 1 {a(\\mathbf x)} > \\frac 1 \\lambda > \\frac 1 {b(\\mathbf x)} \\ \\right) = 1 - \\alpha$$\n",
    ">\n",
    "> Reordeno:\n",
    ">\n",
    "> $$ P\\left( \\ \\frac 1 {b(\\mathbf x)} < \\frac 1 \\lambda < \\frac 1 {a(\\mathbf x)} \\ \\right) = 1 - \\alpha$$\n",
    ">\n",
    "> Reemplazo\n",
    ">\n",
    "> $$\\large  P\\left( \\ \\frac 1 {b(\\mathbf x)} < E[X_1] < \\frac 1 {a(\\mathbf x)} \\ \\right) = 1 - \\alpha$$\n",
    ">\n",
    "> Con IC:\n",
    "   >\n",
    "> $$\\large IC_{1-\\alpha} = \\left( \\frac {2 \\sum_{i=1}^n X_i}{\\chi_{{2n}, \\frac \\alpha 2}^2}  \\ \\ \\ , \\ \\  \\frac {2 \\sum_{i=1}^n X_i}{\\chi_{{2n}, 1 - \\frac \\alpha 2}^2}  \\right)$$"
   ]
  },
  {
   "cell_type": "markdown",
   "metadata": {},
   "source": [
    "Fija que entra en algún parcial:\n",
    "\n",
    "**Intervalo de Confianza de nivel** $1 - \\alpha$ **para** $V [ X ] = \\frac 1 {\\lambda^2}$\n",
    "\n",
    "> Sabemos\n",
    ">\n",
    "> $$P\\left( \\ a(\\mathbf x) < \\lambda < b(\\mathbf x) \\ \\right) = 1 - \\alpha$$\n",
    ">\n",
    "> Queremos\n",
    ">\n",
    "> $$ P\\left( \\ c(\\mathbf x) < V[X_1] < d(\\mathbf x) \\ \\right) = 1 - \\alpha$$\n",
    ">\n",
    "> Como $V[X_1] = \\frac 1 {\\lambda^2}$, aplico $f(x)=x^2$ y luego $g(x) = \\frac 1 x$ a cada término, y cambio desigualdades\n",
    ">\n",
    "> Como $\\lambda > 0$ y $f(x)$ es **creciente** en $(0, +\\infty)$, aplicar $f$ no cambia la desigualdad:\n",
    ">\n",
    "> $$P\\left( \\ \\left(a(\\mathbf x)\\right)^2 < \\lambda^2 < \\left(b(\\mathbf x)\\right)^2 \\ \\right) = 1 - \\alpha$$\n",
    ">\n",
    "> $$ P\\left( \\ \\frac 1 {a^2(\\mathbf x)} > \\frac 1 {\\lambda^2} > \\frac 1 {b^2(\\mathbf x)} \\ \\right) = 1 - \\alpha$$\n",
    ">\n",
    "> Reordeno:\n",
    ">\n",
    "> $$ P\\left( \\ \\frac 1 {b^2(\\mathbf x)} < \\frac 1 {\\lambda^2} < \\frac 1 {a^2(\\mathbf x)} \\ \\right) = 1 - \\alpha$$\n",
    ">\n",
    "> Reemplazo\n",
    ">\n",
    "> $$\\large  P\\left( \\ \\frac 1 {b^2(\\mathbf x)} < V[X_1] < \\frac 1 {a^2(\\mathbf x)} \\ \\right) = 1 - \\alpha$$\n",
    ">\n",
    "> Con IC:\n",
    "   >\n",
    "> $$\\large IC_{1-\\alpha} = \\left( \\left( \\frac {2 \\sum_{i=1}^n X_i}{\\chi_{{2n}, \\frac \\alpha 2}^2} \\right)^2 \\ \\ \\ , \\ \\ \\left(  \\frac {2 \\sum_{i=1}^n X_i}{\\chi_{{2n}, 1 - \\frac \\alpha 2}^2}  \\right)^2 \\right)$$"
   ]
  },
  {
   "cell_type": "markdown",
   "metadata": {},
   "source": [
    "# IC de nivel asintótico"
   ]
  },
  {
   "cell_type": "markdown",
   "metadata": {},
   "source": [
    "Cuando la **distribución** de las $X_i$ es **desconocida**, puedo aprovechar el [**Teorema Central del Límite**](https://es.wikipedia.org/wiki/Teorema_del_l%C3%ADmite_central):\n",
    "\n",
    "> Sea $\\mathcal S_n^+$ la suma de $n$ **variables aleatorias iid** con **media** $\\mu$ y **varianza** $\\sigma^2 > 0$:\n",
    ">\n",
    "> * $\\mathcal S_n^+ = X_1 + X_2 + \\dots + X_n$\n",
    ">\n",
    "> Entonces\n",
    ">\n",
    "> $$\\lim_{n \\to \\infty} P\\left( \\frac {\\mathcal S_n^+ - n \\mu}{\\sigma \\sqrt n} \\leq z \\right) = \\Phi (z)$$\n",
    ">\n",
    "> con $\\Phi (z)$ la **función de acumulación** de una distribución **Normal(0,1)**\n",
    ">\n",
    ">\n",
    "> Que para promedios (divido arriba y abajo por $n$) es:\n",
    ">\n",
    "> $$\\lim_{n \\to \\infty} P\\left( \\frac {\\bar X_n - \\mu}{\\frac \\sigma {\\sqrt n}} \\leq z \\right) = \\Phi (z)$$\n",
    ">\n",
    "> Para $X_i$ iid de **cualquier distribución**."
   ]
  },
  {
   "cell_type": "markdown",
   "metadata": {},
   "source": [
    "> Puedo usar de pivot\n",
    ">\n",
    "> $$\\frac {\\bar X_n - \\mu}{\\frac \\sigma {\\sqrt n}}$$\n",
    ">\n",
    "> $$\\lim_{n \\to \\infty} P \\left( \\underset{\\rightarrow}{z}_{1 - \\frac \\alpha 2} < \\frac {\\bar X_n - \\mu}{\\frac \\sigma {\\sqrt n}} < \\underset{\\rightarrow}{z}_{\\frac \\alpha 2} \\ \\right) = 1 - \\alpha$$\n",
    ">\n",
    "> con $\\underset{\\rightarrow}{z}_{\\frac \\alpha 2} = z_{1 - \\frac \\alpha 2} = \\Phi({1 - \\frac \\alpha 2}) $  (no sé hacer z cursiva)\n",
    "\n",
    "> Que al despejar el parámetro a estimar de la forma:\n",
    ">\n",
    "> $$\\lim_{n \\to \\infty} P \\left( \\ a \\left( \\left\\{ X_1, X_2, \\dots, X_n \\right\\} \\right) < \\theta < b\\left( \\left\\{ X_1, X_2, \\dots, X_n \\right\\} \\right) \\ \\right) = 1 - \\alpha$$\n"
   ]
  },
  {
   "cell_type": "markdown",
   "metadata": {},
   "source": []
  },
  {
   "cell_type": "markdown",
   "metadata": {},
   "source": []
  },
  {
   "cell_type": "code",
   "execution_count": null,
   "metadata": {},
   "outputs": [],
   "source": []
  },
  {
   "cell_type": "code",
   "execution_count": 1,
   "metadata": {
    "ExecuteTime": {
     "end_time": "2019-11-08T19:44:50.654489Z",
     "start_time": "2019-11-08T19:44:50.632Z"
    }
   },
   "outputs": [],
   "source": [
    "data1 <- c(0.44,-1.63,2.59,1.54,0.45,-0.13,-2.76,-1.53)"
   ]
  },
  {
   "cell_type": "code",
   "execution_count": 2,
   "metadata": {
    "ExecuteTime": {
     "end_time": "2019-11-08T19:44:55.266100Z",
     "start_time": "2019-11-08T19:44:55.195Z"
    }
   },
   "outputs": [
    {
     "data": {
      "text/html": [
       "-0.12875"
      ],
      "text/latex": [
       "-0.12875"
      ],
      "text/markdown": [
       "-0.12875"
      ],
      "text/plain": [
       "[1] -0.12875"
      ]
     },
     "metadata": {},
     "output_type": "display_data"
    }
   ],
   "source": [
    "mean(data1)"
   ]
  },
  {
   "cell_type": "code",
   "execution_count": 3,
   "metadata": {
    "ExecuteTime": {
     "end_time": "2019-11-08T19:46:12.433104Z",
     "start_time": "2019-11-08T19:46:12.406Z"
    }
   },
   "outputs": [
    {
     "data": {
      "text/html": [
       "1.77182260882484"
      ],
      "text/latex": [
       "1.77182260882484"
      ],
      "text/markdown": [
       "1.77182260882484"
      ],
      "text/plain": [
       "[1] 1.771823"
      ]
     },
     "metadata": {},
     "output_type": "display_data"
    }
   ],
   "source": [
    "sd(data1)"
   ]
  },
  {
   "cell_type": "code",
   "execution_count": 6,
   "metadata": {
    "ExecuteTime": {
     "end_time": "2019-11-08T19:48:35.871447Z",
     "start_time": "2019-11-08T19:48:35.855Z"
    }
   },
   "outputs": [
    {
     "data": {
      "text/html": [
       "1.3525307703941"
      ],
      "text/latex": [
       "1.3525307703941"
      ],
      "text/markdown": [
       "1.3525307703941"
      ],
      "text/plain": [
       "[1] 1.352531"
      ]
     },
     "metadata": {},
     "output_type": "display_data"
    }
   ],
   "source": [
    "mean(data1) - qt(0.025, df=7)* sd(data) / sqrt(8)"
   ]
  },
  {
   "cell_type": "code",
   "execution_count": 7,
   "metadata": {
    "ExecuteTime": {
     "end_time": "2019-11-08T19:48:43.055178Z",
     "start_time": "2019-11-08T19:48:43.037Z"
    }
   },
   "outputs": [
    {
     "data": {
      "text/html": [
       "-1.6100307703941"
      ],
      "text/latex": [
       "-1.6100307703941"
      ],
      "text/markdown": [
       "-1.6100307703941"
      ],
      "text/plain": [
       "[1] -1.610031"
      ]
     },
     "metadata": {},
     "output_type": "display_data"
    }
   ],
   "source": [
    "mean(data1) + qt(0.025, df=7)* sd(data) / sqrt(8)"
   ]
  }
 ],
 "metadata": {
  "kernelspec": {
   "display_name": "R",
   "language": "R",
   "name": "ir"
  },
  "language_info": {
   "codemirror_mode": "r",
   "file_extension": ".r",
   "mimetype": "text/x-r-source",
   "name": "R",
   "pygments_lexer": "r",
   "version": "3.6.0"
  },
  "toc": {
   "base_numbering": 1,
   "nav_menu": {},
   "number_sections": true,
   "sideBar": true,
   "skip_h1_title": true,
   "title_cell": "Table of Contents",
   "title_sidebar": "Contents",
   "toc_cell": false,
   "toc_position": {},
   "toc_section_display": true,
   "toc_window_display": false
  }
 },
 "nbformat": 4,
 "nbformat_minor": 2
}
