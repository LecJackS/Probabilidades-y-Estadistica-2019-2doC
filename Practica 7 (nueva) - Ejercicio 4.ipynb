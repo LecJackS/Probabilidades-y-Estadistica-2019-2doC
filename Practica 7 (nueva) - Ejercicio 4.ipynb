{
 "cells": [
  {
   "attachments": {},
   "cell_type": "markdown",
   "metadata": {
    "cell_style": "center"
   },
   "source": [
    "![4.png](./img/practica7/4.png)"
   ]
  },
  {
   "cell_type": "markdown",
   "metadata": {},
   "source": [
    "**(a)**\n",
    "> **Estimadores** de:\n",
    "> * Momentos\n",
    "> * Máxima Verosimilitud\n",
    "> * 90-percentil\n",
    ">\n",
    "> https://imgur.com/gallery/mIRQp0C"
   ]
  },
  {
   "cell_type": "markdown",
   "metadata": {},
   "source": [
    "**(b) (c)**\n",
    "\n",
    "> * Insesgados?\n",
    "> * Consistentes?\n",
    ">\n",
    "> https://imgur.com/gallery/f2SJ96Z"
   ]
  },
  {
   "cell_type": "markdown",
   "metadata": {},
   "source": [
    "**(d)**"
   ]
  },
  {
   "cell_type": "code",
   "execution_count": 1,
   "metadata": {
    "ExecuteTime": {
     "end_time": "2019-10-26T00:52:45.757116Z",
     "start_time": "2019-10-26T00:52:45.689Z"
    }
   },
   "outputs": [
    {
     "data": {
      "text/html": [
       "<ol class=list-inline>\n",
       "\t<li>39.08</li>\n",
       "\t<li>45.27</li>\n",
       "\t<li>26.27</li>\n",
       "\t<li>14.77</li>\n",
       "\t<li>65.84</li>\n",
       "\t<li>49.64</li>\n",
       "</ol>\n"
      ],
      "text/latex": [
       "\\begin{enumerate*}\n",
       "\\item 39.08\n",
       "\\item 45.27\n",
       "\\item 26.27\n",
       "\\item 14.77\n",
       "\\item 65.84\n",
       "\\item 49.64\n",
       "\\end{enumerate*}\n"
      ],
      "text/markdown": [
       "1. 39.08\n",
       "2. 45.27\n",
       "3. 26.27\n",
       "4. 14.77\n",
       "5. 65.84\n",
       "6. 49.64\n",
       "\n",
       "\n"
      ],
      "text/plain": [
       "[1] 39.08 45.27 26.27 14.77 65.84 49.64"
      ]
     },
     "metadata": {},
     "output_type": "display_data"
    }
   ],
   "source": [
    "X <- c( 39.08, 45.27,  26.27, 14.77, 65.84,\n",
    "        49.64,  0.80,  66.58, 69.60, 32.42,\n",
    "       228.36, 64.79,   9.38,  3.86, 37.18,\n",
    "       104.75,  3.64, 104.19,  8.17,  8.36)\n",
    "head(X)"
   ]
  },
  {
   "cell_type": "code",
   "execution_count": 1,
   "metadata": {
    "ExecuteTime": {
     "end_time": "2019-10-27T15:25:02.537470Z",
     "start_time": "2019-10-27T15:25:02.497Z"
    }
   },
   "outputs": [],
   "source": [
    "# Estimador de Momentos\n",
    "estimadorMomentos <- function(x){\n",
    "    return (1/mean(x))\n",
    "}"
   ]
  },
  {
   "cell_type": "code",
   "execution_count": 7,
   "metadata": {
    "ExecuteTime": {
     "end_time": "2019-10-26T00:56:52.417451Z",
     "start_time": "2019-10-26T00:56:52.394Z"
    }
   },
   "outputs": [
    {
     "data": {
      "text/html": [
       "0.0203469148990284"
      ],
      "text/latex": [
       "0.0203469148990284"
      ],
      "text/markdown": [
       "0.0203469148990284"
      ],
      "text/plain": [
       "[1] 0.02034691"
      ]
     },
     "metadata": {},
     "output_type": "display_data"
    }
   ],
   "source": [
    "theta_m <- estimadorMomentos(X)\n",
    "theta_m"
   ]
  },
  {
   "cell_type": "code",
   "execution_count": 12,
   "metadata": {
    "ExecuteTime": {
     "end_time": "2019-10-26T00:58:00.256785Z",
     "start_time": "2019-10-26T00:58:00.240Z"
    }
   },
   "outputs": [],
   "source": [
    "# Estimador de Maxima Verosimilitud (igual al de momentos)\n",
    "estimadorMV <- function(x){\n",
    "    return (1/mean(x))\n",
    "}"
   ]
  },
  {
   "cell_type": "code",
   "execution_count": 13,
   "metadata": {
    "ExecuteTime": {
     "end_time": "2019-10-26T00:58:03.784899Z",
     "start_time": "2019-10-26T00:58:03.767Z"
    }
   },
   "outputs": [
    {
     "data": {
      "text/html": [
       "0.0203469148990284"
      ],
      "text/latex": [
       "0.0203469148990284"
      ],
      "text/markdown": [
       "0.0203469148990284"
      ],
      "text/plain": [
       "[1] 0.02034691"
      ]
     },
     "metadata": {},
     "output_type": "display_data"
    }
   ],
   "source": [
    "theta_MV <- estimadorMV(X)\n",
    "theta_MV"
   ]
  },
  {
   "cell_type": "markdown",
   "metadata": {},
   "source": [
    "### **Percentil 90** : usando modelo\n",
    "\n",
    "Lo escribo porque estuvo bueno:\n",
    "\n",
    "Si\n",
    "\n",
    "$$X_i \\sim \\mathcal{E}(\\theta) $$\n",
    "\n",
    "Con densidad (PDF):\n",
    "\n",
    "$$f_X(x) = \\theta e^{-\\theta x}$$\n",
    "\n",
    "Y Distribución (CDF): \n",
    "\n",
    "$$F(X < k) = 1-e^{-\\theta k}$$"
   ]
  },
  {
   "cell_type": "markdown",
   "metadata": {},
   "source": [
    "Quiero que esta probabilidad sea del 90%\n",
    "\n",
    "$$1-e^{-\\theta k} = 0.9$$\n",
    "\n",
    "\n",
    "$$e^{-\\theta k} = 0.1$$\n",
    "\n",
    "\n",
    "$$log(e^{-\\theta k}) = log(0.1)$$\n",
    "\n",
    "\n",
    "$$-\\theta k = log(0.1)$$\n",
    "\n",
    "\n",
    "$$k = - \\frac {log(0.1)}{\\theta}$$"
   ]
  },
  {
   "cell_type": "markdown",
   "metadata": {},
   "source": [
    "Donde por procedimiento *Plug-in*, podemos utilizar el estimador de Momentos o M.V. de $\\theta$"
   ]
  },
  {
   "cell_type": "markdown",
   "metadata": {},
   "source": [
    "$$\\hat k_m = - \\frac {log(0.1)}{\\theta_m}$$\n",
    "\n",
    "\n",
    "$$\\hat k_m = - \\frac {log(0.1)}{\\frac 1 {\\bar X}}$$\n",
    "\n",
    "| Estimador de 90 percentil |\n",
    "|---|\n",
    "|$$\\huge \\hat k_m = - log(0.1) \\ \\bar X$$|"
   ]
  },
  {
   "cell_type": "code",
   "execution_count": 36,
   "metadata": {
    "ExecuteTime": {
     "end_time": "2019-10-26T02:38:57.242599Z",
     "start_time": "2019-10-26T02:38:57.220Z"
    }
   },
   "outputs": [
    {
     "data": {
      "text/html": [
       "113.166300857925"
      ],
      "text/latex": [
       "113.166300857925"
      ],
      "text/markdown": [
       "113.166300857925"
      ],
      "text/plain": [
       "[1] 113.1663"
      ]
     },
     "metadata": {},
     "output_type": "display_data"
    }
   ],
   "source": [
    "# Percentil 90 usando modelo\n",
    "estimadorPercentil90 <- function(theta_hat){\n",
    "    return (-log(0.1)/theta_hat)\n",
    "}\n",
    "\n",
    "k_hat <- estimadorPercentil90(theta_m)\n",
    "k_hat"
   ]
  },
  {
   "cell_type": "markdown",
   "metadata": {},
   "source": [
    "### **Percentil 90** : Sin modelo\n",
    "\n",
    "Usando el hecho de que ***si ordeno los datos puedo extraer el número en la posición correspondiente al 90% del total***.\n",
    "\n",
    "* Ej: Si hay **10 elementos ordenados**, **el noveno** corresponderá al **90 percentil**, pues es mayor o igual que el 90% de los datos.\n",
    "\n",
    "**Observación:** En caso de **no** obtener un valor **entero**, debe redondearse **hacia arriba**."
   ]
  },
  {
   "cell_type": "code",
   "execution_count": 37,
   "metadata": {
    "ExecuteTime": {
     "end_time": "2019-10-26T02:38:58.254070Z",
     "start_time": "2019-10-26T02:38:58.236Z"
    }
   },
   "outputs": [
    {
     "data": {
      "text/html": [
       "<ol class=list-inline>\n",
       "\t<li>0.8</li>\n",
       "\t<li>3.64</li>\n",
       "\t<li>3.86</li>\n",
       "\t<li>8.17</li>\n",
       "\t<li>8.36</li>\n",
       "\t<li>9.38</li>\n",
       "\t<li>14.77</li>\n",
       "\t<li>26.27</li>\n",
       "\t<li>32.42</li>\n",
       "\t<li>37.18</li>\n",
       "\t<li>39.08</li>\n",
       "\t<li>45.27</li>\n",
       "\t<li>49.64</li>\n",
       "\t<li>64.79</li>\n",
       "\t<li>65.84</li>\n",
       "\t<li>66.58</li>\n",
       "\t<li>69.6</li>\n",
       "\t<li>104.19</li>\n",
       "\t<li>104.75</li>\n",
       "\t<li>228.36</li>\n",
       "</ol>\n"
      ],
      "text/latex": [
       "\\begin{enumerate*}\n",
       "\\item 0.8\n",
       "\\item 3.64\n",
       "\\item 3.86\n",
       "\\item 8.17\n",
       "\\item 8.36\n",
       "\\item 9.38\n",
       "\\item 14.77\n",
       "\\item 26.27\n",
       "\\item 32.42\n",
       "\\item 37.18\n",
       "\\item 39.08\n",
       "\\item 45.27\n",
       "\\item 49.64\n",
       "\\item 64.79\n",
       "\\item 65.84\n",
       "\\item 66.58\n",
       "\\item 69.6\n",
       "\\item 104.19\n",
       "\\item 104.75\n",
       "\\item 228.36\n",
       "\\end{enumerate*}\n"
      ],
      "text/markdown": [
       "1. 0.8\n",
       "2. 3.64\n",
       "3. 3.86\n",
       "4. 8.17\n",
       "5. 8.36\n",
       "6. 9.38\n",
       "7. 14.77\n",
       "8. 26.27\n",
       "9. 32.42\n",
       "10. 37.18\n",
       "11. 39.08\n",
       "12. 45.27\n",
       "13. 49.64\n",
       "14. 64.79\n",
       "15. 65.84\n",
       "16. 66.58\n",
       "17. 69.6\n",
       "18. 104.19\n",
       "19. 104.75\n",
       "20. 228.36\n",
       "\n",
       "\n"
      ],
      "text/plain": [
       " [1]   0.80   3.64   3.86   8.17   8.36   9.38  14.77  26.27  32.42  37.18\n",
       "[11]  39.08  45.27  49.64  64.79  65.84  66.58  69.60 104.19 104.75 228.36"
      ]
     },
     "metadata": {},
     "output_type": "display_data"
    }
   ],
   "source": [
    "# Percentil 90\n",
    "sort(X)"
   ]
  },
  {
   "cell_type": "code",
   "execution_count": 38,
   "metadata": {
    "ExecuteTime": {
     "end_time": "2019-10-26T02:38:58.428006Z",
     "start_time": "2019-10-26T02:38:58.399Z"
    }
   },
   "outputs": [
    {
     "data": {
      "text/html": [
       "20"
      ],
      "text/latex": [
       "20"
      ],
      "text/markdown": [
       "20"
      ],
      "text/plain": [
       "[1] 20"
      ]
     },
     "metadata": {},
     "output_type": "display_data"
    }
   ],
   "source": [
    "# Cantidad de datos\n",
    "length(X)"
   ]
  },
  {
   "cell_type": "code",
   "execution_count": 39,
   "metadata": {
    "ExecuteTime": {
     "end_time": "2019-10-26T02:38:58.595657Z",
     "start_time": "2019-10-26T02:38:58.566Z"
    }
   },
   "outputs": [
    {
     "data": {
      "text/html": [
       "18"
      ],
      "text/latex": [
       "18"
      ],
      "text/markdown": [
       "18"
      ],
      "text/plain": [
       "[1] 18"
      ]
     },
     "metadata": {},
     "output_type": "display_data"
    }
   ],
   "source": [
    "# 90% de los datos (redondeo hacia arriba)\n",
    "ceiling(length(X)*0.9)"
   ]
  },
  {
   "cell_type": "code",
   "execution_count": 40,
   "metadata": {
    "ExecuteTime": {
     "end_time": "2019-10-26T02:38:58.757663Z",
     "start_time": "2019-10-26T02:38:58.741Z"
    }
   },
   "outputs": [
    {
     "data": {
      "text/html": [
       "104.19"
      ],
      "text/latex": [
       "104.19"
      ],
      "text/markdown": [
       "104.19"
      ],
      "text/plain": [
       "[1] 104.19"
      ]
     },
     "metadata": {},
     "output_type": "display_data"
    }
   ],
   "source": [
    "# Elemento en el índice que corresponde al 90 percentil\n",
    "sort(X)[ceiling(length(X)*0.9)]"
   ]
  },
  {
   "cell_type": "markdown",
   "metadata": {},
   "source": [
    "Lo que es aceptablemente cercano al valor calculado usando el modelo Exponencial:"
   ]
  },
  {
   "cell_type": "code",
   "execution_count": 41,
   "metadata": {
    "ExecuteTime": {
     "end_time": "2019-10-26T02:38:59.213632Z",
     "start_time": "2019-10-26T02:38:59.195Z"
    }
   },
   "outputs": [
    {
     "data": {
      "text/html": [
       "113.166300857925"
      ],
      "text/latex": [
       "113.166300857925"
      ],
      "text/markdown": [
       "113.166300857925"
      ],
      "text/plain": [
       "[1] 113.1663"
      ]
     },
     "metadata": {},
     "output_type": "display_data"
    }
   ],
   "source": [
    "k_hat"
   ]
  },
  {
   "cell_type": "markdown",
   "metadata": {},
   "source": [
    "# Usando datos de la materia"
   ]
  },
  {
   "cell_type": "code",
   "execution_count": 42,
   "metadata": {
    "ExecuteTime": {
     "end_time": "2019-10-26T02:39:00.361161Z",
     "start_time": "2019-10-26T02:39:00.334Z"
    }
   },
   "outputs": [
    {
     "data": {
      "text/html": [
       "<table>\n",
       "<thead><tr><th scope=col>lamparas</th></tr></thead>\n",
       "<tbody>\n",
       "\t<tr><td>4.1889362</td></tr>\n",
       "\t<tr><td>0.4398173</td></tr>\n",
       "\t<tr><td>1.3663653</td></tr>\n",
       "\t<tr><td>8.3793087</td></tr>\n",
       "\t<tr><td>1.7733742</td></tr>\n",
       "\t<tr><td>5.9061234</td></tr>\n",
       "</tbody>\n",
       "</table>\n"
      ],
      "text/latex": [
       "\\begin{tabular}{r|l}\n",
       " lamparas\\\\\n",
       "\\hline\n",
       "\t 4.1889362\\\\\n",
       "\t 0.4398173\\\\\n",
       "\t 1.3663653\\\\\n",
       "\t 8.3793087\\\\\n",
       "\t 1.7733742\\\\\n",
       "\t 5.9061234\\\\\n",
       "\\end{tabular}\n"
      ],
      "text/markdown": [
       "\n",
       "| lamparas |\n",
       "|---|\n",
       "| 4.1889362 |\n",
       "| 0.4398173 |\n",
       "| 1.3663653 |\n",
       "| 8.3793087 |\n",
       "| 1.7733742 |\n",
       "| 5.9061234 |\n",
       "\n"
      ],
      "text/plain": [
       "  lamparas \n",
       "1 4.1889362\n",
       "2 0.4398173\n",
       "3 1.3663653\n",
       "4 8.3793087\n",
       "5 1.7733742\n",
       "6 5.9061234"
      ]
     },
     "metadata": {},
     "output_type": "display_data"
    }
   ],
   "source": [
    "data_n5 <- read.csv(\"./data/practica7/datos_Practica7_ej4_n_5.csv\")\n",
    "data_n50 <- read.csv(\"./data/practica7/datos_Practica7_ej4_n_50.csv\")\n",
    "data_n100 <- read.csv(\"./data/practica7/datos_Practica7_ej4_n_100.csv\")\n",
    "head(data_n100)"
   ]
  },
  {
   "cell_type": "code",
   "execution_count": 45,
   "metadata": {
    "ExecuteTime": {
     "end_time": "2019-10-26T02:40:22.242009Z",
     "start_time": "2019-10-26T02:40:22.213Z"
    }
   },
   "outputs": [
    {
     "data": {
      "text/html": [
       "0.309639670780193"
      ],
      "text/latex": [
       "0.309639670780193"
      ],
      "text/markdown": [
       "0.309639670780193"
      ],
      "text/plain": [
       "[1] 0.3096397"
      ]
     },
     "metadata": {},
     "output_type": "display_data"
    },
    {
     "data": {
      "text/html": [
       "0.223066146270974"
      ],
      "text/latex": [
       "0.223066146270974"
      ],
      "text/markdown": [
       "0.223066146270974"
      ],
      "text/plain": [
       "[1] 0.2230661"
      ]
     },
     "metadata": {},
     "output_type": "display_data"
    },
    {
     "data": {
      "text/html": [
       "0.263471823512416"
      ],
      "text/latex": [
       "0.263471823512416"
      ],
      "text/markdown": [
       "0.263471823512416"
      ],
      "text/plain": [
       "[1] 0.2634718"
      ]
     },
     "metadata": {},
     "output_type": "display_data"
    }
   ],
   "source": [
    "theta_m_n5 <- estimadorMomentos(data_n5$lamparas)\n",
    "theta_m_n50 <- estimadorMomentos(data_n50$lamparas)\n",
    "theta_m_n100 <- estimadorMomentos(data_n100$lamparas)\n",
    "theta_m_n5\n",
    "theta_m_n50\n",
    "theta_m_n100"
   ]
  },
  {
   "cell_type": "code",
   "execution_count": 47,
   "metadata": {
    "ExecuteTime": {
     "end_time": "2019-10-26T02:41:48.819304Z",
     "start_time": "2019-10-26T02:41:48.788Z"
    }
   },
   "outputs": [
    {
     "data": {
      "text/html": [
       "7.43633749251919"
      ],
      "text/latex": [
       "7.43633749251919"
      ],
      "text/markdown": [
       "7.43633749251919"
      ],
      "text/plain": [
       "[1] 7.436337"
      ]
     },
     "metadata": {},
     "output_type": "display_data"
    },
    {
     "data": {
      "text/html": [
       "10.3224318503128"
      ],
      "text/latex": [
       "10.3224318503128"
      ],
      "text/markdown": [
       "10.3224318503128"
      ],
      "text/plain": [
       "[1] 10.32243"
      ]
     },
     "metadata": {},
     "output_type": "display_data"
    },
    {
     "data": {
      "text/html": [
       "8.73939786918254"
      ],
      "text/latex": [
       "8.73939786918254"
      ],
      "text/markdown": [
       "8.73939786918254"
      ],
      "text/plain": [
       "[1] 8.739398"
      ]
     },
     "metadata": {},
     "output_type": "display_data"
    }
   ],
   "source": [
    "# 90 percentil con modelo\n",
    "k_hat_n5 <- estimadorPercentil90(theta_m_n5)\n",
    "k_hat_n50 <- estimadorPercentil90(theta_m_n50)\n",
    "k_hat_n100 <- estimadorPercentil90(theta_m_n100)\n",
    "k_hat_n5\n",
    "k_hat_n50\n",
    "k_hat_n100"
   ]
  },
  {
   "cell_type": "code",
   "execution_count": 49,
   "metadata": {
    "ExecuteTime": {
     "end_time": "2019-10-26T02:43:23.810458Z",
     "start_time": "2019-10-26T02:43:23.774Z"
    }
   },
   "outputs": [
    {
     "data": {
      "text/html": [
       "8.37930867770567"
      ],
      "text/latex": [
       "8.37930867770567"
      ],
      "text/markdown": [
       "8.37930867770567"
      ],
      "text/plain": [
       "[1] 8.379309"
      ]
     },
     "metadata": {},
     "output_type": "display_data"
    },
    {
     "data": {
      "text/html": [
       "9.61394720034703"
      ],
      "text/latex": [
       "9.61394720034703"
      ],
      "text/markdown": [
       "9.61394720034703"
      ],
      "text/plain": [
       "[1] 9.613947"
      ]
     },
     "metadata": {},
     "output_type": "display_data"
    },
    {
     "data": {
      "text/html": [
       "8.37930867770567"
      ],
      "text/latex": [
       "8.37930867770567"
      ],
      "text/markdown": [
       "8.37930867770567"
      ],
      "text/plain": [
       "[1] 8.379309"
      ]
     },
     "metadata": {},
     "output_type": "display_data"
    }
   ],
   "source": [
    "# 90 percentil sin modelo\n",
    "sort(data_n5$lamparas)[ceiling(length(data_n5$lamparas)*0.9)]\n",
    "sort(data_n50$lamparas)[ceiling(length(data_n50$lamparas)*0.9)]\n",
    "sort(data_n100$lamparas)[ceiling(length(data_n100$lamparas)*0.9)]"
   ]
  },
  {
   "cell_type": "markdown",
   "metadata": {},
   "source": [
    "# Plots"
   ]
  },
  {
   "cell_type": "code",
   "execution_count": 53,
   "metadata": {
    "ExecuteTime": {
     "end_time": "2019-10-26T02:47:05.569296Z",
     "start_time": "2019-10-26T02:47:05.478Z"
    }
   },
   "outputs": [
    {
     "data": {
      "image/png": "[encoded data removed]",
      "text/plain": [
       "Plot with title “Histogram of data_n100$lamparas”"
      ]
     },
     "metadata": {},
     "output_type": "display_data"
    }
   ],
   "source": [
    "par(mfrow=c(2,2))\n",
    "plot(data_n100$lamparas, col=\"lightblue\", cex=1.5)\n",
    "points(data_n50$lamparas, col=\"red\", cex=1.25)\n",
    "points(data_n5$lamparas, col=\"blue\")\n",
    "\n",
    "hist(data_n100$lamparas, col=\"lightblue\")\n",
    "\n",
    "boxplot(data_n100$lamparas, col=\"lightblue\")"
   ]
  },
  {
   "cell_type": "code",
   "execution_count": null,
   "metadata": {},
   "outputs": [],
   "source": []
  }
 ],
 "metadata": {
  "kernelspec": {
   "display_name": "R",
   "language": "R",
   "name": "ir"
  },
  "language_info": {
   "codemirror_mode": "r",
   "file_extension": ".r",
   "mimetype": "text/x-r-source",
   "name": "R",
   "pygments_lexer": "r",
   "version": "3.6.0"
  },
  "toc": {
   "base_numbering": 1,
   "nav_menu": {},
   "number_sections": true,
   "sideBar": true,
   "skip_h1_title": false,
   "title_cell": "Table of Contents",
   "title_sidebar": "Contents",
   "toc_cell": false,
   "toc_position": {},
   "toc_section_display": true,
   "toc_window_display": false
  }
 },
 "nbformat": 4,
 "nbformat_minor": 2
}
