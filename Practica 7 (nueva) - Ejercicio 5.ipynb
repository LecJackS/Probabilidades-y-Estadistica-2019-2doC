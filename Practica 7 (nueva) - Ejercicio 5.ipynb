{
 "cells": [
  {
   "cell_type": "markdown",
   "metadata": {},
   "source": [
    "![](./img/practica7/5abc.png)"
   ]
  },
  {
   "cell_type": "markdown",
   "metadata": {},
   "source": [
    "**a )**\n",
    "\n",
    "> | Estimadores |\n",
    "> |---|\n",
    "> |$$\\huge \\hat \\theta_m = \\hat \\theta_{MV} = \\bar X = \\frac {\\sum_{i=1}^n X_i} n$$|"
   ]
  },
  {
   "cell_type": "markdown",
   "metadata": {},
   "source": [
    "**b )**\n",
    "\n",
    "Sabiendo que la distribución de las $X_i$ es $Poisson(\\theta)$, podemos usar la función de probabilidad puntual de la misma, reemplazando $\\theta$ por $\\hat \\theta_m$\n",
    "\n",
    "> PMF: **Poisson ($\\theta$)**\n",
    ">\n",
    "> $$\\large P( X = x ) = \\frac{\\theta^x}{x!} e^{-\\theta}$$\n",
    "\n",
    "Para $X=40$\n",
    "\n",
    "> $$\\large P( X = 40 ) = \\frac{\\theta^{\\, 40}}{40!} e^{-\\theta}$$\n",
    "\n",
    "A modo de procedimiento *plug in*, uso parámetro $\\hat \\theta_m$ estimado:\n",
    "\n",
    "\n",
    "\n",
    "> | Estimador de $p_X(40)$ |\n",
    "> |---|\n",
    "> |$$\\huge \\hat P_m( X = 40 ) = \\frac{\\hat \\theta_m^{\\, 40}}{40!} e^{-\\hat \\theta_m}$$|"
   ]
  },
  {
   "cell_type": "markdown",
   "metadata": {},
   "source": [
    "**c )** Si no conociera la distribución de las $X_i$, puedo aproximar la distribución por una binomial con probabilidad $p$ estimada con los datos:\n",
    "\n",
    "> PMF Binomial(n,p)\n",
    ">\n",
    "> $$\\large P(X=k) = {n \\choose k} p^k (1 - p)^{n-k}$$\n",
    "\n",
    "\n",
    "Ahora \n",
    "\n",
    "* La **cantidad de llamados en un día**, puede ser aproximada por el **promedio de los datos de todos los días**.\n",
    "\n",
    "\n",
    "* Quisiera una **probabilidad estimada** a partir de las $\\sim 40$ llamadas por día, pero necesito que sea un valor menor a 1.\n",
    "\n",
    "\n",
    "* Para eso, expreso ***DÍA*** en ***MINUTOS***:\n",
    "\n",
    "> $$1 \\ dia = 1440 \\  min$$\n",
    " \n",
    "De esta forma, con $\\bar X$ el promedio de llamados por día, la probabilidad estimada será de\n",
    "\n",
    "> $$\\hat p = \\frac {\\bar X}{1440}$$\n",
    "\n",
    "De nuevo, por procedimiento *plug in*:\n",
    "\n",
    "> $$P(X=k) = {n \\choose k} p^{\\ k} (1 - p)^{n-k}$$\n",
    "\n",
    "> $$\\hat P(X=k) = {n \\choose k} \\hat p^{\\ k} (1 - \\hat p)^{n-k}$$\n",
    "\n",
    "\n",
    "> $$\\hat P(X=k) = {1440 \\choose k} \\left( \\frac {\\bar X}{1440}\\right)^k \\left( 1 - \\frac {\\bar X}{1440}\\right)^{1440-k}$$\n",
    "\n",
    "Y si buscamos estimar la probabilidad de exactamente 40 llegadas:\n",
    "\n",
    "> | Estimador de $p_X(40)$ |\n",
    "> |---|\n",
    "> |$$\\huge \\hat P(X=40) = {1440 \\choose 40} \\left( \\frac {\\bar X}{1440}\\right)^{40} \\left( 1 - \\frac {\\bar X}{1440}\\right)^{1400}$$|"
   ]
  },
  {
   "cell_type": "markdown",
   "metadata": {},
   "source": [
    "![](./img/practica7/5de.png)"
   ]
  },
  {
   "cell_type": "markdown",
   "metadata": {
    "ExecuteTime": {
     "end_time": "2019-10-27T21:20:26.066122Z",
     "start_time": "2019-10-27T21:20:25.999Z"
    }
   },
   "source": [
    "Para **d )**, uso valores del sitio (bajados a `data/practica7`)"
   ]
  },
  {
   "cell_type": "code",
   "execution_count": 39,
   "metadata": {
    "ExecuteTime": {
     "end_time": "2019-10-27T22:14:41.849431Z",
     "start_time": "2019-10-27T22:14:41.827Z"
    }
   },
   "outputs": [
    {
     "data": {
      "text/html": [
       "<table>\n",
       "<thead><tr><th scope=col>llamadas</th></tr></thead>\n",
       "<tbody>\n",
       "\t<tr><td>38</td></tr>\n",
       "\t<tr><td>31</td></tr>\n",
       "\t<tr><td>40</td></tr>\n",
       "\t<tr><td>43</td></tr>\n",
       "\t<tr><td>44</td></tr>\n",
       "\t<tr><td>52</td></tr>\n",
       "</tbody>\n",
       "</table>\n"
      ],
      "text/latex": [
       "\\begin{tabular}{r|l}\n",
       " llamadas\\\\\n",
       "\\hline\n",
       "\t 38\\\\\n",
       "\t 31\\\\\n",
       "\t 40\\\\\n",
       "\t 43\\\\\n",
       "\t 44\\\\\n",
       "\t 52\\\\\n",
       "\\end{tabular}\n"
      ],
      "text/markdown": [
       "\n",
       "| llamadas |\n",
       "|---|\n",
       "| 38 |\n",
       "| 31 |\n",
       "| 40 |\n",
       "| 43 |\n",
       "| 44 |\n",
       "| 52 |\n",
       "\n"
      ],
      "text/plain": [
       "  llamadas\n",
       "1 38      \n",
       "2 31      \n",
       "3 40      \n",
       "4 43      \n",
       "5 44      \n",
       "6 52      "
      ]
     },
     "metadata": {},
     "output_type": "display_data"
    }
   ],
   "source": [
    "data_n5 <- read.csv(\"./data/practica7/datos_Practica7_ej5_n_5.csv\")\n",
    "data_n50 <- read.csv(\"./data/practica7/datos_Practica7_ej5_n_50.csv\")\n",
    "data_n100 <- read.csv(\"./data/practica7/datos_Practica7_ej5_n_100.csv\")\n",
    "head(data_n100)"
   ]
  },
  {
   "cell_type": "code",
   "execution_count": 40,
   "metadata": {
    "ExecuteTime": {
     "end_time": "2019-10-27T22:14:41.881767Z",
     "start_time": "2019-10-27T22:14:41.831Z"
    }
   },
   "outputs": [
    {
     "data": {
      "text/html": [
       "39,2"
      ],
      "text/latex": [
       "39,2"
      ],
      "text/markdown": [
       "39,2"
      ],
      "text/plain": [
       "[1] 39,2"
      ]
     },
     "metadata": {},
     "output_type": "display_data"
    },
    {
     "data": {
      "text/html": [
       "41,1"
      ],
      "text/latex": [
       "41,1"
      ],
      "text/markdown": [
       "41,1"
      ],
      "text/plain": [
       "[1] 41,1"
      ]
     },
     "metadata": {},
     "output_type": "display_data"
    },
    {
     "data": {
      "text/html": [
       "42,11"
      ],
      "text/latex": [
       "42,11"
      ],
      "text/markdown": [
       "42,11"
      ],
      "text/plain": [
       "[1] 42,11"
      ]
     },
     "metadata": {},
     "output_type": "display_data"
    }
   ],
   "source": [
    "# Thetas estimados:\n",
    "theta_n5 <- mean(data_n5$llamadas)\n",
    "theta_n50 <- mean(data_n50$llamadas)\n",
    "theta_n100 <- mean(data_n100$llamadas)\n",
    "theta_n5\n",
    "theta_n50\n",
    "theta_n100"
   ]
  },
  {
   "cell_type": "code",
   "execution_count": 41,
   "metadata": {
    "ExecuteTime": {
     "end_time": "2019-10-27T22:14:41.921270Z",
     "start_time": "2019-10-27T22:14:41.833Z"
    }
   },
   "outputs": [
    {
     "data": {
      "text/html": [
       "0,0624387100300356"
      ],
      "text/latex": [
       "0,0624387100300356"
      ],
      "text/markdown": [
       "0,0624387100300356"
      ],
      "text/plain": [
       "[1] 0,06243871"
      ]
     },
     "metadata": {},
     "output_type": "display_data"
    },
    {
     "data": {
      "text/html": [
       "0,0620189773383241"
      ],
      "text/latex": [
       "0,0620189773383241"
      ],
      "text/markdown": [
       "0,0620189773383241"
      ],
      "text/plain": [
       "[1] 0,06201898"
      ]
     },
     "metadata": {},
     "output_type": "display_data"
    },
    {
     "data": {
      "text/html": [
       "0,0596518553009866"
      ],
      "text/latex": [
       "0,0596518553009866"
      ],
      "text/markdown": [
       "0,0596518553009866"
      ],
      "text/plain": [
       "[1] 0,05965186"
      ]
     },
     "metadata": {},
     "output_type": "display_data"
    }
   ],
   "source": [
    "poissonPMF <- function(theta, k=40){\n",
    "    return (( theta^k / factorial(k) ) * exp(-theta))\n",
    "}\n",
    "\n",
    "poissonPMF(theta_n5)\n",
    "poissonPMF(theta_n50)\n",
    "poissonPMF(theta_n100)"
   ]
  },
  {
   "cell_type": "code",
   "execution_count": 42,
   "metadata": {
    "ExecuteTime": {
     "end_time": "2019-10-27T22:14:41.996027Z",
     "start_time": "2019-10-27T22:14:41.835Z"
    }
   },
   "outputs": [
    {
     "data": {
      "text/html": [
       "0,999999867912468"
      ],
      "text/latex": [
       "0,999999867912468"
      ],
      "text/markdown": [
       "0,999999867912468"
      ],
      "text/plain": [
       "[1] 0,9999999"
      ]
     },
     "metadata": {},
     "output_type": "display_data"
    },
    {
     "data": {
      "image/png": "[encoded data removed]",
      "text/plain": [
       "plot without title"
      ]
     },
     "metadata": {},
     "output_type": "display_data"
    }
   ],
   "source": [
    "grid_poisson <- numeric(80)\n",
    "for(k in 0:79){\n",
    "    grid_poisson[k+1] <- poissonPMF(theta_n100, k)\n",
    "}\n",
    "\n",
    "# Chequeo valores:\n",
    "sum(grid_poisson)\n",
    "plot(grid_poisson)"
   ]
  },
  {
   "cell_type": "code",
   "execution_count": 43,
   "metadata": {
    "ExecuteTime": {
     "end_time": "2019-10-27T22:14:42.022499Z",
     "start_time": "2019-10-27T22:14:41.837Z"
    }
   },
   "outputs": [
    {
     "data": {
      "text/html": [
       "0,028"
      ],
      "text/latex": [
       "0,028"
      ],
      "text/markdown": [
       "0,028"
      ],
      "text/plain": [
       "[1] 0,028"
      ]
     },
     "metadata": {},
     "output_type": "display_data"
    },
    {
     "data": {
      "text/html": [
       "0,0293571428571429"
      ],
      "text/latex": [
       "0,0293571428571429"
      ],
      "text/markdown": [
       "0,0293571428571429"
      ],
      "text/plain": [
       "[1] 0,02935714"
      ]
     },
     "metadata": {},
     "output_type": "display_data"
    },
    {
     "data": {
      "text/html": [
       "0,0300785714285714"
      ],
      "text/latex": [
       "0,0300785714285714"
      ],
      "text/markdown": [
       "0,0300785714285714"
      ],
      "text/plain": [
       "[1] 0,03007857"
      ]
     },
     "metadata": {},
     "output_type": "display_data"
    }
   ],
   "source": [
    "binomialPMF <- function(n, p, k){\n",
    "    return (choose(n, k) * p^k * (1-p)^(n-k))\n",
    "}\n",
    "\n",
    "# Probas estimadas:\n",
    "p_hat_n5 <- theta_n5 / 1400\n",
    "p_hat_n50 <- theta_n50 / 1400\n",
    "p_hat_n100 <- theta_n100 / 1400\n",
    "\n",
    "p_hat_n5\n",
    "p_hat_n50\n",
    "p_hat_n100"
   ]
  },
  {
   "cell_type": "code",
   "execution_count": 44,
   "metadata": {
    "ExecuteTime": {
     "end_time": "2019-10-27T22:14:42.054654Z",
     "start_time": "2019-10-27T22:14:41.838Z"
    }
   },
   "outputs": [
    {
     "data": {
      "text/html": [
       "0,063756282154995"
      ],
      "text/latex": [
       "0,063756282154995"
      ],
      "text/markdown": [
       "0,063756282154995"
      ],
      "text/plain": [
       "[1] 0,06375628"
      ]
     },
     "metadata": {},
     "output_type": "display_data"
    },
    {
     "data": {
      "text/html": [
       "0,0598729186620663"
      ],
      "text/latex": [
       "0,0598729186620663"
      ],
      "text/markdown": [
       "0,0598729186620663"
      ],
      "text/plain": [
       "[1] 0,05987292"
      ]
     },
     "metadata": {},
     "output_type": "display_data"
    },
    {
     "data": {
      "text/html": [
       "0,0558335383596019"
      ],
      "text/latex": [
       "0,0558335383596019"
      ],
      "text/markdown": [
       "0,0558335383596019"
      ],
      "text/plain": [
       "[1] 0,05583354"
      ]
     },
     "metadata": {},
     "output_type": "display_data"
    }
   ],
   "source": [
    "binomialPMF(1440, p_hat_n5, 40)\n",
    "binomialPMF(1440, p_hat_n50, 40)\n",
    "binomialPMF(1440, p_hat_n100, 40)"
   ]
  },
  {
   "cell_type": "markdown",
   "metadata": {},
   "source": [
    "Y si uso segundos en vez de minutos\n",
    "\n",
    "86400 segundos por dia"
   ]
  },
  {
   "cell_type": "code",
   "execution_count": 45,
   "metadata": {
    "ExecuteTime": {
     "end_time": "2019-10-27T22:14:42.081098Z",
     "start_time": "2019-10-27T22:14:41.840Z"
    }
   },
   "outputs": [
    {
     "data": {
      "text/html": [
       "0,000453703703703704"
      ],
      "text/latex": [
       "0,000453703703703704"
      ],
      "text/markdown": [
       "0,000453703703703704"
      ],
      "text/plain": [
       "[1] 0,0004537037"
      ]
     },
     "metadata": {},
     "output_type": "display_data"
    },
    {
     "data": {
      "text/html": [
       "0,000475694444444444"
      ],
      "text/latex": [
       "0,000475694444444444"
      ],
      "text/markdown": [
       "0,000475694444444444"
      ],
      "text/plain": [
       "[1] 0,0004756944"
      ]
     },
     "metadata": {},
     "output_type": "display_data"
    },
    {
     "data": {
      "text/html": [
       "0,000487384259259259"
      ],
      "text/latex": [
       "0,000487384259259259"
      ],
      "text/markdown": [
       "0,000487384259259259"
      ],
      "text/plain": [
       "[1] 0,0004873843"
      ]
     },
     "metadata": {},
     "output_type": "display_data"
    }
   ],
   "source": [
    "# Probas estimadas en segundos\n",
    "p_hat_n5 <- theta_n5 / 86400\n",
    "p_hat_n50 <- theta_n50 / 86400\n",
    "p_hat_n100 <- theta_n100 / 86400\n",
    "\n",
    "p_hat_n5\n",
    "p_hat_n50\n",
    "p_hat_n100"
   ]
  },
  {
   "cell_type": "code",
   "execution_count": 46,
   "metadata": {
    "ExecuteTime": {
     "end_time": "2019-10-27T22:14:42.110791Z",
     "start_time": "2019-10-27T22:14:41.842Z"
    }
   },
   "outputs": [
    {
     "data": {
      "text/html": [
       "0,0624529370145477"
      ],
      "text/latex": [
       "0,0624529370145477"
      ],
      "text/markdown": [
       "0,0624529370145477"
      ],
      "text/plain": [
       "[1] 0,06245294"
      ]
     },
     "metadata": {},
     "output_type": "display_data"
    },
    {
     "data": {
      "text/html": [
       "0,0620329039620313"
      ],
      "text/latex": [
       "0,0620329039620313"
      ],
      "text/markdown": [
       "0,0620329039620313"
      ],
      "text/plain": [
       "[1] 0,0620329"
      ]
     },
     "metadata": {},
     "output_type": "display_data"
    },
    {
     "data": {
      "text/html": [
       "0,0596641303994251"
      ],
      "text/latex": [
       "0,0596641303994251"
      ],
      "text/markdown": [
       "0,0596641303994251"
      ],
      "text/plain": [
       "[1] 0,05966413"
      ]
     },
     "metadata": {},
     "output_type": "display_data"
    }
   ],
   "source": [
    "binomialPMF(86400, p_hat_n5, 40)\n",
    "binomialPMF(86400, p_hat_n50, 40)\n",
    "binomialPMF(86400, p_hat_n100, 40)"
   ]
  },
  {
   "cell_type": "markdown",
   "metadata": {},
   "source": [
    "Me decido por usar esta última **distancia de intervalo de 1 segundo**, ya que produce un ajuste más fino, con **menor probabilidad de que dos eventos ocurran en el mismo intervalo de tiempo**.\n",
    "\n",
    "$$P(X_i, X_j \\in [1 \\ segundo]) << P(X_i, X_j \\in [1 \\ minuto]) << P(X_i, X_j \\in [1 \\ hora])$$"
   ]
  },
  {
   "cell_type": "code",
   "execution_count": null,
   "metadata": {},
   "outputs": [],
   "source": []
  }
 ],
 "metadata": {
  "kernelspec": {
   "display_name": "R",
   "language": "R",
   "name": "ir"
  },
  "language_info": {
   "codemirror_mode": "r",
   "file_extension": ".r",
   "mimetype": "text/x-r-source",
   "name": "R",
   "pygments_lexer": "r",
   "version": "3.6.0"
  },
  "toc": {
   "base_numbering": 1,
   "nav_menu": {},
   "number_sections": true,
   "sideBar": true,
   "skip_h1_title": false,
   "title_cell": "Table of Contents",
   "title_sidebar": "Contents",
   "toc_cell": false,
   "toc_position": {},
   "toc_section_display": true,
   "toc_window_display": false
  }
 },
 "nbformat": 4,
 "nbformat_minor": 2
}
