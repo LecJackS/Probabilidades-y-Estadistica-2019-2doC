{
 "cells": [
  {
   "cell_type": "markdown",
   "metadata": {},
   "source": [
    "![](./img/practica7/5abc.png)"
   ]
  },
  {
   "cell_type": "markdown",
   "metadata": {},
   "source": [
    "**a )**\n",
    "\n",
    "> | Estimadores |\n",
    "> |---|\n",
    "> |$$\\huge \\hat \\theta_m = \\hat \\theta_{MV} = \\bar X = \\frac {\\sum_{i=1}^n X_i} n$$|"
   ]
  },
  {
   "cell_type": "markdown",
   "metadata": {},
   "source": [
    "**b )**\n",
    "\n",
    "Sabiendo que la distribución de las $X_i$ es $Poisson(\\theta)$, podemos usar la función de probabilidad puntual de la misma, reemplazando $\\theta$ por $\\hat \\theta_m$\n",
    "\n",
    "> PMF: **Poisson ($\\theta$)**\n",
    ">\n",
    "> $$\\large P( X = x ) = \\frac{\\theta^x}{x!} e^{-\\theta}$$\n",
    "\n",
    "Para $X=40$\n",
    "\n",
    "> $$\\large P( X = 40 ) = \\frac{\\theta^{\\, 40}}{40!} e^{-\\theta}$$\n",
    "\n",
    "A modo de procedimiento *plug in*, uso parámetro $\\hat \\theta_m$ estimado:\n",
    "\n",
    "\n",
    "\n",
    "> | Estimador de $p_X(40)$ |\n",
    "> |---|\n",
    "> |$$\\huge \\hat P_m( X = 40 ) = \\frac{\\hat \\theta_m^{\\, 40}}{40!} e^{-\\hat \\theta_m}$$|"
   ]
  },
  {
   "cell_type": "markdown",
   "metadata": {},
   "source": [
    "**c )** Si no conociera la distribución de las $X_i$, puedo aproximar la distribución por una binomial con probabilidad $p$ estimada con los datos:\n",
    "\n",
    "> PMF Binomial(n,p)\n",
    ">\n",
    "> $$\\large P(X=k) = {n \\choose k} p^k (1 - p)^{n-k}$$\n",
    "\n",
    "\n",
    "Ahora \n",
    "\n",
    "* La **cantidad de llamados en un día**, puede ser aproximada por el **promedio de los datos de todos los días**.\n",
    "\n",
    "\n",
    "* Quisiera una **probabilidad estimada** a partir de las $\\sim 40$ llamadas por día, pero necesito que sea un valor menor a 1.\n",
    "\n",
    "\n",
    "* Para eso, expreso ***DÍA*** en ***MINUTOS***:\n",
    "\n",
    "> $$1 \\ dia = 1440 \\  min$$\n",
    " \n",
    "De esta forma, con $\\bar X$ el promedio de llamados por día, la probabilidad estimada será de\n",
    "\n",
    "> $$\\hat p = \\frac {\\bar X}{1440}$$\n",
    "\n",
    "De nuevo, por procedimiento *plug in*:\n",
    "\n",
    "> $$P(X=k) = {n \\choose k} p^{\\ k} (1 - p)^{n-k}$$\n",
    "\n",
    "> $$\\hat P(X=k) = {n \\choose k} \\hat p^{\\ k} (1 - \\hat p)^{n-k}$$\n",
    "\n",
    "\n",
    "> $$\\hat P(X=k) = {1440 \\choose k} \\left( \\frac {\\bar X}{1440}\\right)^k \\left( 1 - \\frac {\\bar X}{1440}\\right)^{1440-k}$$\n",
    "\n",
    "Y si buscamos estimar la probabilidad de exactamente 40 llegadas:\n",
    "\n",
    "> | Estimador de $p_X(40)$ |\n",
    "> |---|\n",
    "> |$$\\huge \\hat P(X=40) = {1440 \\choose 40} \\left( \\frac {\\bar X}{1440}\\right)^{40} \\left( 1 - \\frac {\\bar X}{1440}\\right)^{1400}$$|"
   ]
  },
  {
   "cell_type": "markdown",
   "metadata": {},
   "source": [
    "![](./img/practica7/5de.png)"
   ]
  },
  {
   "cell_type": "markdown",
   "metadata": {
    "ExecuteTime": {
     "end_time": "2019-10-27T21:20:26.066122Z",
     "start_time": "2019-10-27T21:20:25.999Z"
    }
   },
   "source": [
    "Para **d )**, uso valores del sitio (bajados a `data/practica7`)"
   ]
  },
  {
   "cell_type": "code",
   "execution_count": 147,
   "metadata": {
    "ExecuteTime": {
     "end_time": "2019-10-27T23:25:11.021116Z",
     "start_time": "2019-10-27T23:25:10.997Z"
    }
   },
   "outputs": [
    {
     "data": {
      "text/html": [
       "<table>\n",
       "<thead><tr><th scope=col>llamadas</th></tr></thead>\n",
       "<tbody>\n",
       "\t<tr><td>38</td></tr>\n",
       "\t<tr><td>31</td></tr>\n",
       "\t<tr><td>40</td></tr>\n",
       "\t<tr><td>43</td></tr>\n",
       "\t<tr><td>44</td></tr>\n",
       "\t<tr><td>52</td></tr>\n",
       "</tbody>\n",
       "</table>\n"
      ],
      "text/latex": [
       "\\begin{tabular}{r|l}\n",
       " llamadas\\\\\n",
       "\\hline\n",
       "\t 38\\\\\n",
       "\t 31\\\\\n",
       "\t 40\\\\\n",
       "\t 43\\\\\n",
       "\t 44\\\\\n",
       "\t 52\\\\\n",
       "\\end{tabular}\n"
      ],
      "text/markdown": [
       "\n",
       "| llamadas |\n",
       "|---|\n",
       "| 38 |\n",
       "| 31 |\n",
       "| 40 |\n",
       "| 43 |\n",
       "| 44 |\n",
       "| 52 |\n",
       "\n"
      ],
      "text/plain": [
       "  llamadas\n",
       "1 38      \n",
       "2 31      \n",
       "3 40      \n",
       "4 43      \n",
       "5 44      \n",
       "6 52      "
      ]
     },
     "metadata": {},
     "output_type": "display_data"
    }
   ],
   "source": [
    "data_n5 <- read.csv(\"./data/practica7/datos_Practica7_ej5_n_5.csv\")\n",
    "data_n50 <- read.csv(\"./data/practica7/datos_Practica7_ej5_n_50.csv\")\n",
    "data_n100 <- read.csv(\"./data/practica7/datos_Practica7_ej5_n_100.csv\")\n",
    "head(data_n100)"
   ]
  },
  {
   "cell_type": "code",
   "execution_count": 148,
   "metadata": {
    "ExecuteTime": {
     "end_time": "2019-10-27T23:25:11.087474Z",
     "start_time": "2019-10-27T23:25:10.999Z"
    }
   },
   "outputs": [
    {
     "data": {
      "image/png": "[encoded data removed]",
      "text/plain": [
       "Plot with title “Histogram of data_n100$llamadas”"
      ]
     },
     "metadata": {},
     "output_type": "display_data"
    }
   ],
   "source": [
    "par(mfrow=c(2,2))\n",
    "hist(data_n5$llamadas, prob=TRUE, col='lightblue')\n",
    "hist(data_n50$llamadas, prob=TRUE, col='lightblue')\n",
    "hist(data_n100$llamadas, prob=TRUE, col='lightblue')"
   ]
  },
  {
   "cell_type": "code",
   "execution_count": 149,
   "metadata": {
    "ExecuteTime": {
     "end_time": "2019-10-27T23:25:11.119000Z",
     "start_time": "2019-10-27T23:25:11.002Z"
    }
   },
   "outputs": [
    {
     "data": {
      "text/html": [
       "39,2"
      ],
      "text/latex": [
       "39,2"
      ],
      "text/markdown": [
       "39,2"
      ],
      "text/plain": [
       "[1] 39,2"
      ]
     },
     "metadata": {},
     "output_type": "display_data"
    },
    {
     "data": {
      "text/html": [
       "41,1"
      ],
      "text/latex": [
       "41,1"
      ],
      "text/markdown": [
       "41,1"
      ],
      "text/plain": [
       "[1] 41,1"
      ]
     },
     "metadata": {},
     "output_type": "display_data"
    },
    {
     "data": {
      "text/html": [
       "42,11"
      ],
      "text/latex": [
       "42,11"
      ],
      "text/markdown": [
       "42,11"
      ],
      "text/plain": [
       "[1] 42,11"
      ]
     },
     "metadata": {},
     "output_type": "display_data"
    }
   ],
   "source": [
    "# Thetas estimados:\n",
    "theta_n5 <- mean(data_n5$llamadas)\n",
    "theta_n50 <- mean(data_n50$llamadas)\n",
    "theta_n100 <- mean(data_n100$llamadas)\n",
    "theta_n5\n",
    "theta_n50\n",
    "theta_n100"
   ]
  },
  {
   "cell_type": "code",
   "execution_count": 150,
   "metadata": {
    "ExecuteTime": {
     "end_time": "2019-10-27T23:25:11.151124Z",
     "start_time": "2019-10-27T23:25:11.004Z"
    }
   },
   "outputs": [
    {
     "data": {
      "text/html": [
       "0,0624387100300356"
      ],
      "text/latex": [
       "0,0624387100300356"
      ],
      "text/markdown": [
       "0,0624387100300356"
      ],
      "text/plain": [
       "[1] 0,06243871"
      ]
     },
     "metadata": {},
     "output_type": "display_data"
    },
    {
     "data": {
      "text/html": [
       "0,0620189773383241"
      ],
      "text/latex": [
       "0,0620189773383241"
      ],
      "text/markdown": [
       "0,0620189773383241"
      ],
      "text/plain": [
       "[1] 0,06201898"
      ]
     },
     "metadata": {},
     "output_type": "display_data"
    },
    {
     "data": {
      "text/html": [
       "0,0596518553009866"
      ],
      "text/latex": [
       "0,0596518553009866"
      ],
      "text/markdown": [
       "0,0596518553009866"
      ],
      "text/plain": [
       "[1] 0,05965186"
      ]
     },
     "metadata": {},
     "output_type": "display_data"
    }
   ],
   "source": [
    "poissonPMF <- function(theta, k=40){\n",
    "    return (( theta^k / factorial(k) ) * exp(-theta))\n",
    "}\n",
    "\n",
    "poissonPMF(theta_n5)\n",
    "poissonPMF(theta_n50)\n",
    "poissonPMF(theta_n100)"
   ]
  },
  {
   "cell_type": "code",
   "execution_count": 151,
   "metadata": {
    "ExecuteTime": {
     "end_time": "2019-10-27T23:25:11.224753Z",
     "start_time": "2019-10-27T23:25:11.006Z"
    }
   },
   "outputs": [
    {
     "data": {
      "text/html": [
       "0,999999867912468"
      ],
      "text/latex": [
       "0,999999867912468"
      ],
      "text/markdown": [
       "0,999999867912468"
      ],
      "text/plain": [
       "[1] 0,9999999"
      ]
     },
     "metadata": {},
     "output_type": "display_data"
    },
    {
     "data": {
      "image/png": "[encoded data removed]",
      "text/plain": [
       "plot without title"
      ]
     },
     "metadata": {},
     "output_type": "display_data"
    }
   ],
   "source": [
    "grid_poisson <- numeric(80)\n",
    "for(k in 0:79){\n",
    "    grid_poisson[k+1] <- poissonPMF(theta_n100, k)\n",
    "}\n",
    "\n",
    "# Chequeo valores:\n",
    "sum(grid_poisson)\n",
    "plot(grid_poisson)"
   ]
  },
  {
   "cell_type": "code",
   "execution_count": 152,
   "metadata": {
    "ExecuteTime": {
     "end_time": "2019-10-27T23:25:11.250110Z",
     "start_time": "2019-10-27T23:25:11.008Z"
    }
   },
   "outputs": [
    {
     "data": {
      "text/html": [
       "0,0272222222222222"
      ],
      "text/latex": [
       "0,0272222222222222"
      ],
      "text/markdown": [
       "0,0272222222222222"
      ],
      "text/plain": [
       "[1] 0,02722222"
      ]
     },
     "metadata": {},
     "output_type": "display_data"
    },
    {
     "data": {
      "text/html": [
       "0,0285416666666667"
      ],
      "text/latex": [
       "0,0285416666666667"
      ],
      "text/markdown": [
       "0,0285416666666667"
      ],
      "text/plain": [
       "[1] 0,02854167"
      ]
     },
     "metadata": {},
     "output_type": "display_data"
    },
    {
     "data": {
      "text/html": [
       "0,0292430555555556"
      ],
      "text/latex": [
       "0,0292430555555556"
      ],
      "text/markdown": [
       "0,0292430555555556"
      ],
      "text/plain": [
       "[1] 0,02924306"
      ]
     },
     "metadata": {},
     "output_type": "display_data"
    }
   ],
   "source": [
    "binomialPMF <- function(n, p, k){\n",
    "    return (choose(n, k) * p^k * (1-p)^(n-k))\n",
    "}\n",
    "\n",
    "# Probas estimadas en minutos por dia\n",
    "p_hat_n5_min <- theta_n5 / (24*60)\n",
    "p_hat_n50_min <- theta_n50 / (24*60)\n",
    "p_hat_n100_min <- theta_n100 / (24*60)\n",
    "\n",
    "p_hat_n5_min\n",
    "p_hat_n50_min\n",
    "p_hat_n100_min"
   ]
  },
  {
   "cell_type": "code",
   "execution_count": 153,
   "metadata": {
    "ExecuteTime": {
     "end_time": "2019-10-27T23:25:11.281954Z",
     "start_time": "2019-10-27T23:25:11.011Z"
    }
   },
   "outputs": [
    {
     "data": {
      "text/html": [
       "0,0633098380645323"
      ],
      "text/latex": [
       "0,0633098380645323"
      ],
      "text/markdown": [
       "0,0633098380645323"
      ],
      "text/plain": [
       "[1] 0,06330984"
      ]
     },
     "metadata": {},
     "output_type": "display_data"
    },
    {
     "data": {
      "text/html": [
       "0,0628714295298189"
      ],
      "text/latex": [
       "0,0628714295298189"
      ],
      "text/markdown": [
       "0,0628714295298189"
      ],
      "text/plain": [
       "[1] 0,06287143"
      ]
     },
     "metadata": {},
     "output_type": "display_data"
    },
    {
     "data": {
      "text/html": [
       "0,0604017091117694"
      ],
      "text/latex": [
       "0,0604017091117694"
      ],
      "text/markdown": [
       "0,0604017091117694"
      ],
      "text/plain": [
       "[1] 0,06040171"
      ]
     },
     "metadata": {},
     "output_type": "display_data"
    }
   ],
   "source": [
    "binomialPMF(24*60, p_hat_n5_min, 40)\n",
    "binomialPMF(24*60, p_hat_n50_min, 40)\n",
    "binomialPMF(24*60, p_hat_n100_min, 40)"
   ]
  },
  {
   "cell_type": "markdown",
   "metadata": {},
   "source": [
    "Y si uso segundos en vez de minutos\n",
    "\n",
    "86400 segundos por dia"
   ]
  },
  {
   "cell_type": "code",
   "execution_count": 154,
   "metadata": {
    "ExecuteTime": {
     "end_time": "2019-10-27T23:25:11.312794Z",
     "start_time": "2019-10-27T23:25:11.013Z"
    }
   },
   "outputs": [
    {
     "data": {
      "text/html": [
       "0,000453703703703704"
      ],
      "text/latex": [
       "0,000453703703703704"
      ],
      "text/markdown": [
       "0,000453703703703704"
      ],
      "text/plain": [
       "[1] 0,0004537037"
      ]
     },
     "metadata": {},
     "output_type": "display_data"
    },
    {
     "data": {
      "text/html": [
       "0,000475694444444444"
      ],
      "text/latex": [
       "0,000475694444444444"
      ],
      "text/markdown": [
       "0,000475694444444444"
      ],
      "text/plain": [
       "[1] 0,0004756944"
      ]
     },
     "metadata": {},
     "output_type": "display_data"
    },
    {
     "data": {
      "text/html": [
       "0,000487384259259259"
      ],
      "text/latex": [
       "0,000487384259259259"
      ],
      "text/markdown": [
       "0,000487384259259259"
      ],
      "text/plain": [
       "[1] 0,0004873843"
      ]
     },
     "metadata": {},
     "output_type": "display_data"
    }
   ],
   "source": [
    "# Probas estimadas en segundos por dia\n",
    "p_hat_n5_seg <- theta_n5 / (24*60*60)\n",
    "p_hat_n50_seg <- theta_n50 / (24*60*60)\n",
    "p_hat_n100_seg <- theta_n100 / (24*60*60)\n",
    "\n",
    "p_hat_n5_seg\n",
    "p_hat_n50_seg\n",
    "p_hat_n100_seg"
   ]
  },
  {
   "cell_type": "code",
   "execution_count": 155,
   "metadata": {
    "ExecuteTime": {
     "end_time": "2019-10-27T23:25:11.334075Z",
     "start_time": "2019-10-27T23:25:11.015Z"
    }
   },
   "outputs": [
    {
     "data": {
      "text/html": [
       "0,0624529370145477"
      ],
      "text/latex": [
       "0,0624529370145477"
      ],
      "text/markdown": [
       "0,0624529370145477"
      ],
      "text/plain": [
       "[1] 0,06245294"
      ]
     },
     "metadata": {},
     "output_type": "display_data"
    },
    {
     "data": {
      "text/html": [
       "0,0620329039620313"
      ],
      "text/latex": [
       "0,0620329039620313"
      ],
      "text/markdown": [
       "0,0620329039620313"
      ],
      "text/plain": [
       "[1] 0,0620329"
      ]
     },
     "metadata": {},
     "output_type": "display_data"
    },
    {
     "data": {
      "text/html": [
       "0,0596641303994251"
      ],
      "text/latex": [
       "0,0596641303994251"
      ],
      "text/markdown": [
       "0,0596641303994251"
      ],
      "text/plain": [
       "[1] 0,05966413"
      ]
     },
     "metadata": {},
     "output_type": "display_data"
    }
   ],
   "source": [
    "binomialPMF(24*60*60, p_hat_n5_seg, 40)\n",
    "binomialPMF(24*60*60, p_hat_n50_seg, 40)\n",
    "binomialPMF(24*60*60, p_hat_n100_seg, 40)"
   ]
  },
  {
   "cell_type": "markdown",
   "metadata": {},
   "source": []
  },
  {
   "cell_type": "markdown",
   "metadata": {},
   "source": [
    "De esta manera, podemos seguir reduciendo los intervalos de tiempo para una mejor aproximación al tiempo contínuo de un proceso de Poisson."
   ]
  },
  {
   "cell_type": "code",
   "execution_count": 156,
   "metadata": {
    "ExecuteTime": {
     "end_time": "2019-10-27T23:25:11.371639Z",
     "start_time": "2019-10-27T23:25:11.018Z"
    }
   },
   "outputs": [
    {
     "data": {
      "text/html": [
       "4,53703703703704e-07"
      ],
      "text/latex": [
       "4,53703703703704e-07"
      ],
      "text/markdown": [
       "4,53703703703704e-07"
      ],
      "text/plain": [
       "[1] 4,537037e-07"
      ]
     },
     "metadata": {},
     "output_type": "display_data"
    },
    {
     "data": {
      "text/html": [
       "4,75694444444444e-07"
      ],
      "text/latex": [
       "4,75694444444444e-07"
      ],
      "text/markdown": [
       "4,75694444444444e-07"
      ],
      "text/plain": [
       "[1] 4,756944e-07"
      ]
     },
     "metadata": {},
     "output_type": "display_data"
    },
    {
     "data": {
      "text/html": [
       "4,87384259259259e-07"
      ],
      "text/latex": [
       "4,87384259259259e-07"
      ],
      "text/markdown": [
       "4,87384259259259e-07"
      ],
      "text/plain": [
       "[1] 4,873843e-07"
      ]
     },
     "metadata": {},
     "output_type": "display_data"
    }
   ],
   "source": [
    "# Probas estimadas en mili segundos\n",
    "p_hat_n5_ms <- theta_n5 / (24*60*60*1000)\n",
    "p_hat_n50_ms <- theta_n50 / (24*60*60*1000)\n",
    "p_hat_n100_ms <- theta_n100 / (24*60*60*1000)\n",
    "\n",
    "p_hat_n5_ms\n",
    "p_hat_n50_ms\n",
    "p_hat_n100_ms"
   ]
  },
  {
   "cell_type": "code",
   "execution_count": 157,
   "metadata": {
    "ExecuteTime": {
     "end_time": "2019-10-27T23:25:11.393779Z",
     "start_time": "2019-10-27T23:25:11.021Z"
    }
   },
   "outputs": [
    {
     "data": {
      "text/html": [
       "0,0624387241762597"
      ],
      "text/latex": [
       "0,0624387241762597"
      ],
      "text/markdown": [
       "0,0624387241762597"
      ],
      "text/plain": [
       "[1] 0,06243872"
      ]
     },
     "metadata": {},
     "output_type": "display_data"
    },
    {
     "data": {
      "text/html": [
       "0,0620189915484843"
      ],
      "text/latex": [
       "0,0620189915484843"
      ],
      "text/markdown": [
       "0,0620189915484843"
      ],
      "text/plain": [
       "[1] 0,06201899"
      ]
     },
     "metadata": {},
     "output_type": "display_data"
    },
    {
     "data": {
      "text/html": [
       "0,0596518674422074"
      ],
      "text/latex": [
       "0,0596518674422074"
      ],
      "text/markdown": [
       "0,0596518674422074"
      ],
      "text/plain": [
       "[1] 0,05965187"
      ]
     },
     "metadata": {},
     "output_type": "display_data"
    }
   ],
   "source": [
    "binomialPMF(24*60*60*1000, p_hat_n5_ms, 40)\n",
    "binomialPMF(24*60*60*1000, p_hat_n50_ms, 40)\n",
    "binomialPMF(24*60*60*1000, p_hat_n100_ms, 40)"
   ]
  },
  {
   "cell_type": "markdown",
   "metadata": {},
   "source": [
    "Me decido por usar esta última **distancia de intervalo de 1 mili segundo**, ya que produce un ajuste más fino, con **menor probabilidad de que dos eventos ocurran en el mismo intervalo de tiempo**.\n",
    "\n",
    "$$P(X_i, X_j \\in [1 \\ mili \\ segundo]) <<< P(X_i, X_j \\in [1 \\ segundo]) << P(X_i, X_j \\in [1 \\ minuto]) << P(X_i, X_j \\in [1 \\ hora])$$"
   ]
  },
  {
   "cell_type": "markdown",
   "metadata": {},
   "source": [
    "A continuación se puede observar cómo **la aproximación es bastante precisa**, aunque también se observa que **no** hay gran diferencia entre intervalos de **1 segundo y 1 mili segundo**"
   ]
  },
  {
   "cell_type": "code",
   "execution_count": 158,
   "metadata": {
    "ExecuteTime": {
     "end_time": "2019-10-27T23:25:11.494434Z",
     "start_time": "2019-10-27T23:25:11.024Z"
    }
   },
   "outputs": [
    {
     "data": {
      "image/png": "[encoded data removed]",
      "text/plain": [
       "plot without title"
      ]
     },
     "metadata": {},
     "output_type": "display_data"
    }
   ],
   "source": [
    "grid_binom_min <- numeric(80)\n",
    "grid_binom_seg <- numeric(80)\n",
    "grid_binom_ms <- numeric(80)\n",
    "\n",
    "for(k in 0:79){\n",
    "    grid_binom_min[k+1] <- binomialPMF(24*60, p_hat_n100_min, k)\n",
    "    grid_binom_seg[k+1] <- binomialPMF(24*60*60, p_hat_n100_seg, k)\n",
    "    grid_binom_ms[k+1] <- binomialPMF(24*60*60*1000, p_hat_n100_ms, k)\n",
    "}\n",
    "\n",
    "# Comparo plots\n",
    "plot(grid_poisson, col='blue')\n",
    "lines(grid_binom_min, col='red')\n",
    "lines(grid_binom_seg, col='green')\n",
    "lines(grid_binom_ms, col='black')"
   ]
  },
  {
   "cell_type": "code",
   "execution_count": 159,
   "metadata": {
    "ExecuteTime": {
     "end_time": "2019-10-27T23:25:11.562210Z",
     "start_time": "2019-10-27T23:25:11.026Z"
    }
   },
   "outputs": [
    {
     "data": {
      "image/png": "[encoded data removed]",
      "text/plain": [
       "plot without title"
      ]
     },
     "metadata": {},
     "output_type": "display_data"
    }
   ],
   "source": [
    "# Comparo plots\n",
    "plot(grid_poisson, col='blue', xlim=c(39,41), ylim=c(0.05,0.06))\n",
    "lines(grid_binom_min, col='red')\n",
    "lines(grid_binom_seg, col='green')\n",
    "lines(grid_binom_ms, col='black')"
   ]
  },
  {
   "cell_type": "markdown",
   "metadata": {},
   "source": [
    "**Observación:** Notar cómo los valores de la aproximación binomial más fina, se cortan en $47$"
   ]
  },
  {
   "cell_type": "code",
   "execution_count": 163,
   "metadata": {
    "ExecuteTime": {
     "end_time": "2019-10-27T23:27:55.076211Z",
     "start_time": "2019-10-27T23:27:55.020Z"
    }
   },
   "outputs": [
    {
     "data": {
      "image/png": "[encoded data removed]",
      "text/plain": [
       "plot without title"
      ]
     },
     "metadata": {},
     "output_type": "display_data"
    }
   ],
   "source": [
    "plot(grid_binom_ms, col='black')"
   ]
  },
  {
   "cell_type": "code",
   "execution_count": 164,
   "metadata": {
    "ExecuteTime": {
     "end_time": "2019-10-27T23:28:03.479426Z",
     "start_time": "2019-10-27T23:28:03.460Z"
    }
   },
   "outputs": [
    {
     "data": {
      "text/html": [
       "0,0493186132159389"
      ],
      "text/latex": [
       "0,0493186132159389"
      ],
      "text/markdown": [
       "0,0493186132159389"
      ],
      "text/plain": [
       "[1] 0,04931861"
      ]
     },
     "metadata": {},
     "output_type": "display_data"
    }
   ],
   "source": [
    "binomialPMF(24*60*60*1000, p_hat_n100_ms, 46)"
   ]
  },
  {
   "cell_type": "code",
   "execution_count": 165,
   "metadata": {
    "ExecuteTime": {
     "end_time": "2019-10-27T23:28:06.346396Z",
     "start_time": "2019-10-27T23:28:06.331Z"
    }
   },
   "outputs": [
    {
     "data": {
      "text/html": [
       "Inf"
      ],
      "text/latex": [
       "Inf"
      ],
      "text/markdown": [
       "Inf"
      ],
      "text/plain": [
       "[1] Inf"
      ]
     },
     "metadata": {},
     "output_type": "display_data"
    }
   ],
   "source": [
    "binomialPMF(24*60*60*1000, p_hat_n100_ms, 47)"
   ]
  },
  {
   "cell_type": "markdown",
   "metadata": {},
   "source": [
    "Ésto se debe al cálculo del combinatorio $${86 \\, 400 \\, 000 \\choose 47}$$"
   ]
  },
  {
   "cell_type": "code",
   "execution_count": 167,
   "metadata": {
    "ExecuteTime": {
     "end_time": "2019-10-27T23:29:59.642266Z",
     "start_time": "2019-10-27T23:29:59.620Z"
    }
   },
   "outputs": [
    {
     "data": {
      "text/html": [
       "2,1830177087689e+307"
      ],
      "text/latex": [
       "2,1830177087689e+307"
      ],
      "text/markdown": [
       "2,1830177087689e+307"
      ],
      "text/plain": [
       "[1] 2,183018e+307"
      ]
     },
     "metadata": {},
     "output_type": "display_data"
    }
   ],
   "source": [
    "choose(24*60*60*1000, 46)"
   ]
  },
  {
   "cell_type": "code",
   "execution_count": 168,
   "metadata": {
    "ExecuteTime": {
     "end_time": "2019-10-27T23:30:02.542879Z",
     "start_time": "2019-10-27T23:30:02.521Z"
    }
   },
   "outputs": [
    {
     "data": {
      "text/html": [
       "Inf"
      ],
      "text/latex": [
       "Inf"
      ],
      "text/markdown": [
       "Inf"
      ],
      "text/plain": [
       "[1] Inf"
      ]
     },
     "metadata": {},
     "output_type": "display_data"
    }
   ],
   "source": [
    "choose(24*60*60*1000, 47)"
   ]
  },
  {
   "cell_type": "markdown",
   "metadata": {
    "ExecuteTime": {
     "end_time": "2019-10-27T23:15:30.218576Z",
     "start_time": "2019-10-27T23:15:30.199Z"
    }
   },
   "source": [
    "Por lo que en caso de necesitar estimar un valor exacto de 47 llamadas o más, no podríamos usar el ajuste en \"mili segundo\", a menos que guardemos o resolvamos esa componente de una manera más eficiente."
   ]
  },
  {
   "cell_type": "markdown",
   "metadata": {},
   "source": [
    "### Go beyond\n",
    "\n",
    "# PLUS ULTRA"
   ]
  },
  {
   "cell_type": "markdown",
   "metadata": {},
   "source": [
    "De antes:\n",
    "\n",
    "$$\\hat P(X=k) = {1440 \\choose k} \\left( \\frac {\\bar X}{1440}\\right)^k \\left( 1 - \\frac {\\bar X}{1440}\\right)^{1440-k}$$\n",
    "\n",
    "Generalizando para cualquier\n",
    "  \n",
    "  \n",
    "*   $n = $ *\"Cantidad **total** de intervalos\"* (antes $1440$)\n",
    "  \n",
    "  \n",
    "  * $t = $ *\"Cantidad de intervalos a **considerar**\"*  (antes $1$)\n",
    "  \n",
    "  \n",
    "  * $\\hat \\theta$ es el **estimador** de $\\theta$ (antes $\\bar X$)\n",
    "  \n",
    "    Donde $\\theta$ es el parámetro de ***\"frecuencia de llegadas\"*** de una $\\mathcal Poisson(\\theta)$\n",
    "    \n",
    "\n",
    "$$\\hat P(X=k) = {n \\choose k} \\left( {\\hat \\theta} \\frac {t}{n}\\right)^k \\left( 1 - {\\hat \\theta} \\frac {t}{n}\\right)^{n-k}$$"
   ]
  },
  {
   "cell_type": "markdown",
   "metadata": {},
   "source": [
    "El problema de usar variables aleatorias **Bernoulli** para **cada** uno de los **intervalos** se da en que existe una probabilidad de que haya **dos llegadas** (*éxitos*) en **un mismo intervalo**.\n",
    "\n",
    "$$\\hat P(X=k) \\neq P(\"k \\ llegadas\")$$\n",
    "\n",
    "En ese caso, el valor de la Bernoulli sería **1**, ignorando que existió **otra llegada** en **ese intervalo**.\n",
    "\n",
    "Para eso, podemos **reducir el ancho de los intervalos**, o mejor aún, **ver su límite** en cero (infinitos intervalos)\n",
    "\n",
    "En ese caso, valdría que:\n",
    "\n",
    "$$\\lim_{n \\to \\infty} \\hat P(X=k) = P(\"k \\ llegadas\") $$"
   ]
  },
  {
   "cell_type": "markdown",
   "metadata": {},
   "source": [
    "Demostración:\n",
    "\n",
    "$$\\lim_{n \\to \\infty} \\hat P(X=k) = \\lim_{n \\to \\infty} {n \\choose k} \\left( {\\hat \\theta} \\frac {t}{n}\\right)^k \\left( 1 - {\\hat \\theta} \\frac {t}{n}\\right)^{n-k}$$"
   ]
  },
  {
   "cell_type": "markdown",
   "metadata": {},
   "source": [
    "Abro el combinatorio:\n",
    "\n",
    "$$= \\lim_{n \\to \\infty} {\\frac {n!}{(n-k)! k!}} \\left( {\\hat \\theta} \\frac {t}{n}\\right)^k \\left( 1 - {\\hat \\theta} \\frac {t}{n}\\right)^{n-k}$$"
   ]
  },
  {
   "cell_type": "markdown",
   "metadata": {},
   "source": [
    "Distribuyo el exponente $k$:\n",
    "\n",
    "$$= \\lim_{n \\to \\infty} {\\frac {n!}{(n-k)! k!}} \\left(  \\frac {\\left( \\hat \\theta \\ t \\right)^k }{n^k}\\right) \\left( 1 - {\\hat \\theta} \\frac {t}{n}\\right)^{n-k}$$"
   ]
  },
  {
   "cell_type": "markdown",
   "metadata": {},
   "source": [
    "Agrupo $n^k$ con $\\frac {n!}{(n-k)!}$\n",
    "\n",
    "$$= \\lim_{n \\to \\infty} {\\frac {n!}{(n-k)! n^k!}} \\frac {\\left( \\hat \\theta \\ t \\right)^k }{k!} \\left( 1 - {\\hat \\theta} \\frac {t}{n}\\right)^{n-k}$$"
   ]
  },
  {
   "cell_type": "markdown",
   "metadata": {},
   "source": [
    "Veamos que:\n",
    "$$\\lim_{n \\to \\infty} {\\frac {n!}{(n-k)! n^k!}} = \\frac {n (n-1) (n-2) \\dots  (n-k+1)}{n \\ . n \\ . n \\dots n}$$\n",
    "\n",
    "Donde puedo sacar factor común $n$ en el numerador, para cada término:\n",
    "\n",
    "$$\\lim_{n \\to \\infty} {\\frac {n!}{(n-k)! n^k!}} = \\lim_{n \\to \\infty}  \\frac {n \\ . n (1-\\frac 1 n) \\ n (1-\\frac 2 n) \\dots  n (1-\\frac {k+1} n)}{n \\ . n \\ . n \\dots n}$$\n",
    "\n",
    "Simplifico $n$'s:\n",
    "$$= \\lim_{n \\to \\infty}  \\frac {\\not n \\ . \\not n (1-\\frac 1 n) \\ \\not n (1-\\frac 2 n) \\dots  \\not n (1-\\frac {k+1} n)}{\\not n \\ . \\not n \\ . \\not n \\dots \\not n}$$\n",
    "\n",
    "$$= \\lim_{n \\to \\infty}  \\frac {(1-\\frac 1 n) \\ (1-\\frac 2 n) \\dots  (1-\\frac {k+1} n)}{1}$$\n",
    "\n",
    "Donde el límite de todos los términos con $n$ es cero:\n",
    "\n",
    "$$= \\frac {(1) \\ (1) \\dots  (1)}{1} = 1$$"
   ]
  },
  {
   "cell_type": "markdown",
   "metadata": {},
   "source": [
    "Volviendo:\n",
    "\n",
    "$$\\lim_{n \\to \\infty} {\\frac {n!}{(n-k)! n^k!}} \\frac {\\left( \\hat \\theta \\ t \\right)^k }{k!} \\left( 1 - {\\hat \\theta} \\frac {t}{n}\\right)^{n-k} =$$\n",
    "\n",
    "$$= \\lim_{n \\to \\infty} 1 \\frac {\\left( \\hat \\theta \\ t \\right)^k }{k!} \\left( 1 - {\\hat \\theta} \\frac {t}{n}\\right)^{n-k}$$"
   ]
  },
  {
   "cell_type": "markdown",
   "metadata": {},
   "source": [
    "Saco el primer término afuera del límite, pues no tiene $n$\n",
    "\n",
    "$$= \\frac {\\left( \\hat \\theta \\ t \\right)^k }{k!} \\lim_{n \\to \\infty} \\left( 1 - {\\hat \\theta} \\frac {t}{n}\\right)^{n-k}$$"
   ]
  },
  {
   "cell_type": "markdown",
   "metadata": {},
   "source": [
    "Reescribo último término:\n",
    "\n",
    "$$= \\frac {\\left( \\hat \\theta \\ t \\right)^k }{k!} \\lim_{n \\to \\infty} \\frac {\\left( 1 - {\\hat \\theta} \\frac {t}{n}\\right)^{n}}{\\left( 1 - {\\hat \\theta} \\frac {t}{n}\\right)^{k}}$$\n",
    "\n",
    "$$= \\frac {\\left( \\hat \\theta \\ t \\right)^k }{k!} \\frac {\\lim_{n \\to \\infty} \\left( 1 - {\\hat \\theta} \\frac {t}{n}\\right)^{n}}{\\lim_{n \\to \\infty} \\left( 1 - {\\hat \\theta} \\frac {t}{n}\\right)^{k}}$$"
   ]
  },
  {
   "cell_type": "markdown",
   "metadata": {},
   "source": [
    "Donde\n",
    "\n",
    "$$\\lim_{n \\to \\infty} {\\left( 1 - {\\hat \\theta} \\frac {t}{n}\\right)^{k}} = 1^{k} = 1$$"
   ]
  },
  {
   "cell_type": "markdown",
   "metadata": {},
   "source": [
    "$$\\lim_{n \\to \\infty} {\\left( 1 - {\\hat \\theta} \\frac {t}{n}\\right)^{n}} = e^{-\\hat\\theta t}$$\n",
    "\n",
    "pues\n",
    "\n",
    "* $\\lim_{n \\to \\infty} {\\left( 1 - \\frac {x}{n}\\right)^{n}} = e^{-x}$\n"
   ]
  },
  {
   "cell_type": "markdown",
   "metadata": {},
   "source": [
    "$$\\frac {\\left( \\hat \\theta \\ t \\right)^k }{k!} \\frac {\\lim_{n \\to \\infty} \\left( 1 - {\\hat \\theta} \\frac {t}{n}\\right)^{n}}{\\lim_{n \\to \\infty} \\left( 1 - {\\hat \\theta} \\frac {t}{n}\\right)^{k}} =$$\n",
    "\n",
    "\n",
    "$$= \\frac {\\left( \\hat \\theta \\ t \\right)^k }{k!} \\frac {e^{-\\hat\\theta t}}{1}$$\n",
    "\n",
    "$$= \\frac {\\left( \\hat \\theta \\ t \\right)^k }{k!} e^{-\\hat\\theta t} $$"
   ]
  },
  {
   "cell_type": "markdown",
   "metadata": {},
   "source": [
    "Por lo que\n",
    "\n",
    "$$\\lim_{n \\to \\infty} \\hat P(X=k) = \\lim_{n \\to \\infty} {n \\choose k} \\left( {\\hat \\theta} \\frac {t}{n}\\right)^k \\left( 1 - {\\hat \\theta} \\frac {t}{n}\\right)^{n-k}$$\n",
    "\n",
    "es lo mismo que:\n",
    "\n",
    "$$\\lim_{n \\to \\infty} \\hat P(X=k) = \\frac {\\left( \\hat \\theta \\ t \\right)^k }{k!} e^{-\\hat\\theta t}$$"
   ]
  },
  {
   "cell_type": "markdown",
   "metadata": {},
   "source": [
    "Un **Proceso de Poisson** con **Función de Probabilidad Puntual**:\n",
    "\n",
    "> $$p_X (k) = \\frac {\\left( \\hat \\theta \\ t \\right)^k }{k!} e^{-\\hat\\theta t}$$\n",
    ">\n",
    "> * $t > 0$\n",
    ">\n",
    "> * $k = 0, 1, 2, \\dots ,\\infty$"
   ]
  },
  {
   "cell_type": "markdown",
   "metadata": {},
   "source": [
    "Lo que para un tiempo $t_0$ fijo, corresponderá a una $Poisson$ de parámetro $\\lambda = \\hat \\theta \\ t_0$\n",
    "\n"
   ]
  },
  {
   "cell_type": "code",
   "execution_count": null,
   "metadata": {},
   "outputs": [],
   "source": []
  }
 ],
 "metadata": {
  "kernelspec": {
   "display_name": "R",
   "language": "R",
   "name": "ir"
  },
  "language_info": {
   "codemirror_mode": "r",
   "file_extension": ".r",
   "mimetype": "text/x-r-source",
   "name": "R",
   "pygments_lexer": "r",
   "version": "3.6.0"
  },
  "toc": {
   "base_numbering": 1,
   "nav_menu": {},
   "number_sections": true,
   "sideBar": true,
   "skip_h1_title": false,
   "title_cell": "Table of Contents",
   "title_sidebar": "Contents",
   "toc_cell": false,
   "toc_position": {},
   "toc_section_display": true,
   "toc_window_display": false
  }
 },
 "nbformat": 4,
 "nbformat_minor": 2
}
