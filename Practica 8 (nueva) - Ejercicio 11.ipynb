{
 "cells": [
  {
   "cell_type": "markdown",
   "metadata": {},
   "source": [
    "$$\\huge IC_{1 - \\alpha}^{\\mu} = \\left( \\bar X_n - t_{n-1, \\frac \\alpha 2} \\frac S {\\sqrt n} , \\bar X_n + t_{n-1, \\frac \\alpha 2} \\frac S {\\sqrt n} \\right) $$\n",
    "\n",
    "\n",
    "\n",
    "$$\\large IC_{0.95}^{\\mu_1} = \\left( \\bar X_8 - t_{\\ 7, \\ 0.025} \\frac S {\\sqrt 8} , \\bar X_n + t_{\\ 7, \\ 0.025} \\frac S {\\sqrt 8} \\right) $$"
   ]
  },
  {
   "cell_type": "markdown",
   "metadata": {},
   "source": [
    "# a)"
   ]
  },
  {
   "cell_type": "code",
   "execution_count": 14,
   "metadata": {
    "ExecuteTime": {
     "end_time": "2019-11-08T20:01:25.822600Z",
     "start_time": "2019-11-08T20:01:25.804Z"
    }
   },
   "outputs": [],
   "source": [
    "data1 <- c(0.44, -1.63,  2.59,  1.54,\n",
    "           0.45, -0.13, -2.76, -1.53)"
   ]
  },
  {
   "cell_type": "code",
   "execution_count": 15,
   "metadata": {
    "ExecuteTime": {
     "end_time": "2019-11-08T20:01:25.963877Z",
     "start_time": "2019-11-08T20:01:25.942Z"
    }
   },
   "outputs": [
    {
     "data": {
      "text/html": [
       "-1.6100307703941"
      ],
      "text/latex": [
       "-1.6100307703941"
      ],
      "text/markdown": [
       "-1.6100307703941"
      ],
      "text/plain": [
       "[1] -1.610031"
      ]
     },
     "metadata": {},
     "output_type": "display_data"
    }
   ],
   "source": [
    "izq1 <- mean(data1) + qt(0.025, df=7) * sd(data1) / sqrt(8)\n",
    "izq1"
   ]
  },
  {
   "cell_type": "code",
   "execution_count": 16,
   "metadata": {
    "ExecuteTime": {
     "end_time": "2019-11-08T20:01:26.085577Z",
     "start_time": "2019-11-08T20:01:26.066Z"
    }
   },
   "outputs": [
    {
     "data": {
      "text/html": [
       "1.3525307703941"
      ],
      "text/latex": [
       "1.3525307703941"
      ],
      "text/markdown": [
       "1.3525307703941"
      ],
      "text/plain": [
       "[1] 1.352531"
      ]
     },
     "metadata": {},
     "output_type": "display_data"
    }
   ],
   "source": [
    "der1 <- mean(data1) - qt(0.025, df=7)* sd(data1) / sqrt(8)\n",
    "der1"
   ]
  },
  {
   "cell_type": "code",
   "execution_count": 17,
   "metadata": {
    "ExecuteTime": {
     "end_time": "2019-11-08T20:01:26.210268Z",
     "start_time": "2019-11-08T20:01:26.190Z"
    }
   },
   "outputs": [
    {
     "data": {
      "text/html": [
       "<ol class=list-inline>\n",
       "\t<li>-1.6100307703941</li>\n",
       "\t<li>1.3525307703941</li>\n",
       "</ol>\n"
      ],
      "text/latex": [
       "\\begin{enumerate*}\n",
       "\\item -1.6100307703941\n",
       "\\item 1.3525307703941\n",
       "\\end{enumerate*}\n"
      ],
      "text/markdown": [
       "1. -1.6100307703941\n",
       "2. 1.3525307703941\n",
       "\n",
       "\n"
      ],
      "text/plain": [
       "[1] -1.610031  1.352531"
      ]
     },
     "metadata": {},
     "output_type": "display_data"
    }
   ],
   "source": [
    "intervalo_mu1 <- c(izq1, der1)\n",
    "intervalo_mu1"
   ]
  },
  {
   "cell_type": "markdown",
   "metadata": {},
   "source": [
    "# b)"
   ]
  },
  {
   "cell_type": "code",
   "execution_count": 18,
   "metadata": {
    "ExecuteTime": {
     "end_time": "2019-11-08T20:01:26.311431Z",
     "start_time": "2019-11-08T20:01:26.294Z"
    }
   },
   "outputs": [],
   "source": [
    "data2 <- c(0.06, -0.24, 4.65,  2.27,\n",
    "           3.88,  2.35, 3.92, -0.73)"
   ]
  },
  {
   "cell_type": "code",
   "execution_count": 19,
   "metadata": {
    "ExecuteTime": {
     "end_time": "2019-11-08T20:01:26.435497Z",
     "start_time": "2019-11-08T20:01:26.415Z"
    }
   },
   "outputs": [
    {
     "data": {
      "text/html": [
       "0.270063934750556"
      ],
      "text/latex": [
       "0.270063934750556"
      ],
      "text/markdown": [
       "0.270063934750556"
      ],
      "text/plain": [
       "[1] 0.2700639"
      ]
     },
     "metadata": {},
     "output_type": "display_data"
    }
   ],
   "source": [
    "izq2 <- mean(data2) + qt(0.025, df=7)* sd(data2) / sqrt(8)\n",
    "izq2"
   ]
  },
  {
   "cell_type": "code",
   "execution_count": 20,
   "metadata": {
    "ExecuteTime": {
     "end_time": "2019-11-08T20:01:26.572232Z",
     "start_time": "2019-11-08T20:01:26.550Z"
    }
   },
   "outputs": [
    {
     "data": {
      "text/html": [
       "3.76993606524944"
      ],
      "text/latex": [
       "3.76993606524944"
      ],
      "text/markdown": [
       "3.76993606524944"
      ],
      "text/plain": [
       "[1] 3.769936"
      ]
     },
     "metadata": {},
     "output_type": "display_data"
    }
   ],
   "source": [
    "der2 <- mean(data2) - qt(0.025, df=7)* sd(data2) / sqrt(8)\n",
    "der2"
   ]
  },
  {
   "cell_type": "code",
   "execution_count": 21,
   "metadata": {
    "ExecuteTime": {
     "end_time": "2019-11-08T20:01:26.680004Z",
     "start_time": "2019-11-08T20:01:26.659Z"
    }
   },
   "outputs": [
    {
     "data": {
      "text/html": [
       "<ol class=list-inline>\n",
       "\t<li>0.270063934750556</li>\n",
       "\t<li>3.76993606524944</li>\n",
       "</ol>\n"
      ],
      "text/latex": [
       "\\begin{enumerate*}\n",
       "\\item 0.270063934750556\n",
       "\\item 3.76993606524944\n",
       "\\end{enumerate*}\n"
      ],
      "text/markdown": [
       "1. 0.270063934750556\n",
       "2. 3.76993606524944\n",
       "\n",
       "\n"
      ],
      "text/plain": [
       "[1] 0.2700639 3.7699361"
      ]
     },
     "metadata": {},
     "output_type": "display_data"
    }
   ],
   "source": [
    "intervalo_mu2 <- c(izq2, der2)\n",
    "intervalo_mu2"
   ]
  },
  {
   "cell_type": "markdown",
   "metadata": {},
   "source": [
    "# c)"
   ]
  },
  {
   "cell_type": "code",
   "execution_count": null,
   "metadata": {},
   "outputs": [],
   "source": []
  },
  {
   "cell_type": "code",
   "execution_count": null,
   "metadata": {},
   "outputs": [],
   "source": []
  }
 ],
 "metadata": {
  "kernelspec": {
   "display_name": "R",
   "language": "R",
   "name": "ir"
  },
  "language_info": {
   "codemirror_mode": "r",
   "file_extension": ".r",
   "mimetype": "text/x-r-source",
   "name": "R",
   "pygments_lexer": "r",
   "version": "3.6.0"
  },
  "toc": {
   "base_numbering": 1,
   "nav_menu": {},
   "number_sections": true,
   "sideBar": true,
   "skip_h1_title": false,
   "title_cell": "Table of Contents",
   "title_sidebar": "Contents",
   "toc_cell": false,
   "toc_position": {},
   "toc_section_display": true,
   "toc_window_display": false
  }
 },
 "nbformat": 4,
 "nbformat_minor": 2
}
