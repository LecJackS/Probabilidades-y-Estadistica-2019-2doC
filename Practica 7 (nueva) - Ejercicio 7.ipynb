{
 "cells": [
  {
   "cell_type": "markdown",
   "metadata": {
    "ExecuteTime": {
     "end_time": "2019-10-29T01:17:01.656953Z",
     "start_time": "2019-10-29T01:17:01.642Z"
    }
   },
   "source": [
    "![](./img/practica7/7.png)"
   ]
  },
  {
   "cell_type": "markdown",
   "metadata": {},
   "source": [
    "**a )**\n",
    "$$\\large X \\sim Ge(\\theta)$$"
   ]
  },
  {
   "cell_type": "markdown",
   "metadata": {},
   "source": [
    "**b )**\n",
    "\n",
    ">|Estimador de **Máxima Verosimilitud**|\n",
    ">|---|\n",
    ">|$$\\huge \\hat \\theta_{MV} = \\frac {1}{1 - \\sum_{i=1}^n X_i}$$|\n",
    "\n",
    "\n",
    ">|Estimador de **Momentos**|\n",
    ">|---|\n",
    ">|$$\\huge \\hat \\theta_{m} = \\frac {n}{\\sum_{i=1}^n X_i}$$|"
   ]
  },
  {
   "cell_type": "markdown",
   "metadata": {},
   "source": [
    "**c )**\n",
    "\n",
    "$$P_{\\hat \\theta_{MV}} (X \\geq 5) = 1 - P_{\\hat \\theta_{MV}} (X \\leq 4)$$\n",
    "\n",
    "CMF de Geométrica: $P(X \\leq k) = 1 - (1-p)^k$\n",
    "\n",
    ">|Estimador de $P(X \\geq 5)$ con $\\hat \\theta_{MV}$|\n",
    ">|---|\n",
    ">|$$\\huge P_{\\hat \\theta_{MV}} (X \\geq 5) = \\left(1 - \\hat \\theta_{MV} \\right)^4 $$|"
   ]
  },
  {
   "cell_type": "markdown",
   "metadata": {},
   "source": [
    "**d )** Sin asumir que es geométrica la pensé a partir de 4 eventos individuales:\n",
    "\n",
    "$$P(X\\leq4) = P(X = 1) + P(X = 2) +P(X = 3) + P(X = 4)$$\n",
    "\n",
    "> Donde\n",
    ">\n",
    "> $P(X = 1) = \\theta$\n",
    ">\n",
    "> $P(X = 2) = \\theta (1-\\theta)$\n",
    ">\n",
    "> $P(X = 3) = \\theta (1-\\theta)^2$\n",
    ">\n",
    "> $P(X = 4) = \\theta (1-\\theta)^3$\n",
    "\n",
    "Que resulta ser el mismo polinomio que usando la función acumulada de la geométrica:\n",
    "\n",
    "$$(1-\\theta)^4 = \\theta + \\theta (1-\\theta) + \\theta (1-\\theta)^2 +\\theta (1-\\theta)^3$$"
   ]
  },
  {
   "cell_type": "markdown",
   "metadata": {},
   "source": [
    "# Evaluación con datos:\n"
   ]
  },
  {
   "cell_type": "code",
   "execution_count": 30,
   "metadata": {
    "ExecuteTime": {
     "end_time": "2019-10-29T02:35:27.719903Z",
     "start_time": "2019-10-29T02:35:27.663Z"
    }
   },
   "outputs": [
    {
     "data": {
      "text/html": [
       "<ol class=list-inline>\n",
       "\t<li>5</li>\n",
       "\t<li>12</li>\n",
       "\t<li>1</li>\n",
       "\t<li>7</li>\n",
       "\t<li>6</li>\n",
       "\t<li>1</li>\n",
       "</ol>\n"
      ],
      "text/latex": [
       "\\begin{enumerate*}\n",
       "\\item 5\n",
       "\\item 12\n",
       "\\item 1\n",
       "\\item 7\n",
       "\\item 6\n",
       "\\item 1\n",
       "\\end{enumerate*}\n"
      ],
      "text/markdown": [
       "1. 5\n",
       "2. 12\n",
       "3. 1\n",
       "4. 7\n",
       "5. 6\n",
       "6. 1\n",
       "\n",
       "\n"
      ],
      "text/plain": [
       "[1]  5 12  1  7  6  1"
      ]
     },
     "metadata": {},
     "output_type": "display_data"
    }
   ],
   "source": [
    "theta <- 0.1\n",
    "datos <- rgeom(200000, prob=theta)\n",
    "head(datos)"
   ]
  },
  {
   "cell_type": "code",
   "execution_count": 31,
   "metadata": {
    "ExecuteTime": {
     "end_time": "2019-10-29T02:35:28.336165Z",
     "start_time": "2019-10-29T02:35:28.235Z"
    }
   },
   "outputs": [
    {
     "data": {
      "image/png": "[encoded data removed]",
      "text/plain": [
       "Plot with title “Histogram of datos”"
      ]
     },
     "metadata": {},
     "output_type": "display_data"
    }
   ],
   "source": [
    "hist(datos)\n",
    "abline(v=mean(datos), col='red')"
   ]
  },
  {
   "cell_type": "code",
   "execution_count": 34,
   "metadata": {
    "ExecuteTime": {
     "end_time": "2019-10-29T02:50:10.130410Z",
     "start_time": "2019-10-29T02:50:10.110Z"
    }
   },
   "outputs": [
    {
     "data": {
      "text/html": [
       "0,111097285671116"
      ],
      "text/latex": [
       "0,111097285671116"
      ],
      "text/markdown": [
       "0,111097285671116"
      ],
      "text/plain": [
       "[1] 0,1110973"
      ]
     },
     "metadata": {},
     "output_type": "display_data"
    }
   ],
   "source": [
    "theta_hat_MV <- n / sum(datos)\n",
    "theta_hat_MV"
   ]
  },
  {
   "cell_type": "code",
   "execution_count": 35,
   "metadata": {
    "ExecuteTime": {
     "end_time": "2019-10-29T02:50:10.260222Z",
     "start_time": "2019-10-29T02:50:10.239Z"
    }
   },
   "outputs": [
    {
     "data": {
      "text/html": [
       "0,111097285671116"
      ],
      "text/latex": [
       "0,111097285671116"
      ],
      "text/markdown": [
       "0,111097285671116"
      ],
      "text/plain": [
       "[1] 0,1110973"
      ]
     },
     "metadata": {},
     "output_type": "display_data"
    }
   ],
   "source": [
    "n <- length(datos)\n",
    "theta_hat_m <- n / sum(datos)\n",
    "theta_hat_m"
   ]
  },
  {
   "cell_type": "code",
   "execution_count": 39,
   "metadata": {
    "ExecuteTime": {
     "end_time": "2019-10-29T02:50:25.310896Z",
     "start_time": "2019-10-29T02:50:25.292Z"
    }
   },
   "outputs": [
    {
     "data": {
      "text/html": [
       "0,624333918069707"
      ],
      "text/latex": [
       "0,624333918069707"
      ],
      "text/markdown": [
       "0,624333918069707"
      ],
      "text/plain": [
       "[1] 0,6243339"
      ]
     },
     "metadata": {},
     "output_type": "display_data"
    }
   ],
   "source": [
    "# P(X >= 5) = \n",
    "invAcumuladaConModelo <- function(p){\n",
    "    return ((1 - p)^4)\n",
    "}\n",
    "invAcumuladaConModelo(theta_hat_MV)"
   ]
  },
  {
   "cell_type": "code",
   "execution_count": 38,
   "metadata": {
    "ExecuteTime": {
     "end_time": "2019-10-29T02:50:23.481974Z",
     "start_time": "2019-10-29T02:50:23.454Z"
    }
   },
   "outputs": [
    {
     "data": {
      "text/html": [
       "0,624333918069707"
      ],
      "text/latex": [
       "0,624333918069707"
      ],
      "text/markdown": [
       "0,624333918069707"
      ],
      "text/plain": [
       "[1] 0,6243339"
      ]
     },
     "metadata": {},
     "output_type": "display_data"
    }
   ],
   "source": [
    "# P(X >= 5) = \n",
    "invAcumuladaSinModelo <- function(p) {\n",
    "    # = 1 - ( P(X=1) + P(X=2) + P(X=3) + P(X=4) )\n",
    "    return (1 - (p + p*(1-p) + p*(1-p)^2 + p*(1-p)^3))\n",
    "}\n",
    "invAcumuladaSinModelo(theta_hat_MV)"
   ]
  },
  {
   "cell_type": "markdown",
   "metadata": {},
   "source": []
  },
  {
   "cell_type": "markdown",
   "metadata": {},
   "source": []
  }
 ],
 "metadata": {
  "kernelspec": {
   "display_name": "R",
   "language": "R",
   "name": "ir"
  },
  "language_info": {
   "codemirror_mode": "r",
   "file_extension": ".r",
   "mimetype": "text/x-r-source",
   "name": "R",
   "pygments_lexer": "r",
   "version": "3.6.0"
  },
  "toc": {
   "base_numbering": 1,
   "nav_menu": {},
   "number_sections": true,
   "sideBar": true,
   "skip_h1_title": false,
   "title_cell": "Table of Contents",
   "title_sidebar": "Contents",
   "toc_cell": false,
   "toc_position": {},
   "toc_section_display": true,
   "toc_window_display": false
  }
 },
 "nbformat": 4,
 "nbformat_minor": 2
}
