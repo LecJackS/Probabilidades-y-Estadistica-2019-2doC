{
 "cells": [
  {
   "cell_type": "code",
   "execution_count": 118,
   "metadata": {
    "ExecuteTime": {
     "end_time": "2019-11-07T01:08:55.397043Z",
     "start_time": "2019-11-07T01:08:55.375Z"
    }
   },
   "outputs": [
    {
     "data": {
      "text/html": [
       "<table>\n",
       "<thead><tr><th scope=col>encuesta</th></tr></thead>\n",
       "<tbody>\n",
       "\t<tr><td>en contra</td></tr>\n",
       "\t<tr><td>en contra</td></tr>\n",
       "\t<tr><td>en contra</td></tr>\n",
       "\t<tr><td>en contra</td></tr>\n",
       "\t<tr><td>en contra</td></tr>\n",
       "\t<tr><td>en contra</td></tr>\n",
       "\t<tr><td>indeciso </td></tr>\n",
       "\t<tr><td>indeciso </td></tr>\n",
       "\t<tr><td>en contra</td></tr>\n",
       "\t<tr><td>indeciso </td></tr>\n",
       "</tbody>\n",
       "</table>\n"
      ],
      "text/latex": [
       "\\begin{tabular}{r|l}\n",
       " encuesta\\\\\n",
       "\\hline\n",
       "\t en contra\\\\\n",
       "\t en contra\\\\\n",
       "\t en contra\\\\\n",
       "\t en contra\\\\\n",
       "\t en contra\\\\\n",
       "\t en contra\\\\\n",
       "\t indeciso \\\\\n",
       "\t indeciso \\\\\n",
       "\t en contra\\\\\n",
       "\t indeciso \\\\\n",
       "\\end{tabular}\n"
      ],
      "text/markdown": [
       "\n",
       "| encuesta |\n",
       "|---|\n",
       "| en contra |\n",
       "| en contra |\n",
       "| en contra |\n",
       "| en contra |\n",
       "| en contra |\n",
       "| en contra |\n",
       "| indeciso  |\n",
       "| indeciso  |\n",
       "| en contra |\n",
       "| indeciso  |\n",
       "\n"
      ],
      "text/plain": [
       "   encuesta \n",
       "1  en contra\n",
       "2  en contra\n",
       "3  en contra\n",
       "4  en contra\n",
       "5  en contra\n",
       "6  en contra\n",
       "7  indeciso \n",
       "8  indeciso \n",
       "9  en contra\n",
       "10 indeciso "
      ]
     },
     "metadata": {},
     "output_type": "display_data"
    }
   ],
   "source": [
    "datos <- read.csv(\"./data/practica8/datos_Practica8_ej6_n_1000.csv\")\n",
    "head(datos, n=10)"
   ]
  },
  {
   "cell_type": "code",
   "execution_count": 120,
   "metadata": {
    "ExecuteTime": {
     "end_time": "2019-11-07T01:08:56.752247Z",
     "start_time": "2019-11-07T01:08:56.694Z"
    }
   },
   "outputs": [
    {
     "name": "stdout",
     "output_type": "stream",
     "text": [
      "[1] Encuestados:\n"
     ]
    },
    {
     "data": {
      "text/html": [
       "1000"
      ],
      "text/latex": [
       "1000"
      ],
      "text/markdown": [
       "1000"
      ],
      "text/plain": [
       "[1] 1000"
      ]
     },
     "metadata": {},
     "output_type": "display_data"
    },
    {
     "name": "stdout",
     "output_type": "stream",
     "text": [
      "[1] En contra:\n"
     ]
    },
    {
     "data": {
      "text/html": [
       "565"
      ],
      "text/latex": [
       "565"
      ],
      "text/markdown": [
       "565"
      ],
      "text/plain": [
       "[1] 565"
      ]
     },
     "metadata": {},
     "output_type": "display_data"
    },
    {
     "name": "stdout",
     "output_type": "stream",
     "text": [
      "[1] A favor:\n"
     ]
    },
    {
     "data": {
      "text/html": [
       "218"
      ],
      "text/latex": [
       "218"
      ],
      "text/markdown": [
       "218"
      ],
      "text/plain": [
       "[1] 218"
      ]
     },
     "metadata": {},
     "output_type": "display_data"
    },
    {
     "name": "stdout",
     "output_type": "stream",
     "text": [
      "[1] Indecisos:\n"
     ]
    },
    {
     "data": {
      "text/html": [
       "217"
      ],
      "text/latex": [
       "217"
      ],
      "text/markdown": [
       "217"
      ],
      "text/plain": [
       "[1] 217"
      ]
     },
     "metadata": {},
     "output_type": "display_data"
    }
   ],
   "source": [
    "print(\"Encuestados:\" , quote=FALSE)\n",
    "cantEncuestados <- length(datos$encuesta)\n",
    "cantEncuestados\n",
    "\n",
    "print(\"En contra:\" , quote=FALSE)\n",
    "cantEnContra <- length(datos$encuesta[datos$encuesta == \"en contra\"])\n",
    "cantEnContra\n",
    "\n",
    "print(\"A favor:\" , quote=FALSE)\n",
    "cantAFavor <- length(datos$encuesta[datos$encuesta == \"a favor\"])\n",
    "cantAFavor\n",
    "\n",
    "print(\"Indecisos:\" , quote=FALSE)\n",
    "cantIndecisos <- length(datos$encuesta[datos$encuesta == \"indeciso\"])\n",
    "cantIndecisos"
   ]
  },
  {
   "cell_type": "code",
   "execution_count": 121,
   "metadata": {
    "ExecuteTime": {
     "end_time": "2019-11-07T01:08:56.896125Z",
     "start_time": "2019-11-07T01:08:56.871Z"
    }
   },
   "outputs": [
    {
     "data": {
      "text/html": [
       "0,565"
      ],
      "text/latex": [
       "0,565"
      ],
      "text/markdown": [
       "0,565"
      ],
      "text/plain": [
       "[1] 0,565"
      ]
     },
     "metadata": {},
     "output_type": "display_data"
    }
   ],
   "source": [
    "p_hat <- cantEnContra/cantEncuestados\n",
    "p_hat "
   ]
  },
  {
   "cell_type": "code",
   "execution_count": 122,
   "metadata": {
    "ExecuteTime": {
     "end_time": "2019-11-07T01:08:57.073770Z",
     "start_time": "2019-11-07T01:08:57.048Z"
    }
   },
   "outputs": [
    {
     "data": {
      "text/html": [
       "<ol class=list-inline>\n",
       "\t<li>0,539213279727148</li>\n",
       "\t<li>0,590786720272852</li>\n",
       "</ol>\n"
      ],
      "text/latex": [
       "\\begin{enumerate*}\n",
       "\\item 0,539213279727148\n",
       "\\item 0,590786720272852\n",
       "\\end{enumerate*}\n"
      ],
      "text/markdown": [
       "1. 0,539213279727148\n",
       "2. 0,590786720272852\n",
       "\n",
       "\n"
      ],
      "text/plain": [
       "[1] 0,5392133 0,5907867"
      ]
     },
     "metadata": {},
     "output_type": "display_data"
    }
   ],
   "source": [
    "zp <- -qnorm(0.05)\n",
    "sigma2_hat <- p_hat * (1 - p_hat)\n",
    "n <- cantEncuestados\n",
    "intervaloBer <- c( p_hat - zp * sqrt( sigma2_hat / n) ,\n",
    "                   p_hat + zp * sqrt( sigma2_hat / n))\n",
    "intervaloBer"
   ]
  },
  {
   "cell_type": "code",
   "execution_count": 123,
   "metadata": {
    "ExecuteTime": {
     "end_time": "2019-11-07T01:08:57.458305Z",
     "start_time": "2019-11-07T01:08:57.388Z"
    }
   },
   "outputs": [
    {
     "data": {
      "image/png": "[encoded data removed]",
      "text/plain": [
       "Plot with title “Encuesta simplificada a Bernoulli”"
      ]
     },
     "metadata": {},
     "output_type": "display_data"
    }
   ],
   "source": [
    "dataBernoulli <- rep(0, 1000)\n",
    "dataBernoulli[1:cantEnContra] <- 1\n",
    "hist(dataBernoulli, col=\"steelblue\", main=\"Encuesta simplificada a Bernoulli\", xaxt='n')\n",
    "axis(1, c(0+0.05,1-0.05),  labels=c(\"A Favor + Indecisos\", \"En Contra\"))"
   ]
  },
  {
   "cell_type": "markdown",
   "metadata": {},
   "source": [
    "Teniendo los datos de esta forma, podemos calcular su varianza muestral $S_n^2 = \\sum \\frac {(X_i - \\bar X)^2}{n-1}$:"
   ]
  },
  {
   "cell_type": "code",
   "execution_count": 124,
   "metadata": {
    "ExecuteTime": {
     "end_time": "2019-11-07T01:08:58.020746Z",
     "start_time": "2019-11-07T01:08:58.002Z"
    }
   },
   "outputs": [
    {
     "data": {
      "text/html": [
       "0,246021021021021"
      ],
      "text/latex": [
       "0,246021021021021"
      ],
      "text/markdown": [
       "0,246021021021021"
      ],
      "text/plain": [
       "[1] 0,246021"
      ]
     },
     "metadata": {},
     "output_type": "display_data"
    }
   ],
   "source": [
    "S2n <- var(dataBernoulli)\n",
    "S2n"
   ]
  },
  {
   "cell_type": "markdown",
   "metadata": {},
   "source": [
    "Ligeramente diferente al valor calculado a partir de que es una Bernoulli y su varianza es $p * (1-p)$\n",
    "\n",
    "Donde podemos reeplazar $p$ por la probabilidad estimada $\\hat p$"
   ]
  },
  {
   "cell_type": "code",
   "execution_count": 125,
   "metadata": {
    "ExecuteTime": {
     "end_time": "2019-11-07T01:08:58.620727Z",
     "start_time": "2019-11-07T01:08:58.600Z"
    }
   },
   "outputs": [
    {
     "data": {
      "text/html": [
       "0,245775"
      ],
      "text/latex": [
       "0,245775"
      ],
      "text/markdown": [
       "0,245775"
      ],
      "text/plain": [
       "[1] 0,245775"
      ]
     },
     "metadata": {},
     "output_type": "display_data"
    }
   ],
   "source": [
    "varBer <- p_hat*(1 - p_hat)\n",
    "varBer"
   ]
  },
  {
   "cell_type": "code",
   "execution_count": 126,
   "metadata": {
    "ExecuteTime": {
     "end_time": "2019-11-07T01:08:58.933812Z",
     "start_time": "2019-11-07T01:08:58.893Z"
    }
   },
   "outputs": [
    {
     "data": {
      "text/html": [
       "<ol class=list-inline>\n",
       "\t<li>0,539200376688926</li>\n",
       "\t<li>0,590799623311074</li>\n",
       "</ol>\n"
      ],
      "text/latex": [
       "\\begin{enumerate*}\n",
       "\\item 0,539200376688926\n",
       "\\item 0,590799623311074\n",
       "\\end{enumerate*}\n"
      ],
      "text/markdown": [
       "1. 0,539200376688926\n",
       "2. 0,590799623311074\n",
       "\n",
       "\n"
      ],
      "text/plain": [
       "[1] 0,5392004 0,5907996"
      ]
     },
     "metadata": {},
     "output_type": "display_data"
    }
   ],
   "source": [
    "# Usando varianza muestral:\n",
    "\n",
    "zp <- -qnorm(0.05)\n",
    "sigma2_hat <- S2n\n",
    "n <- cantEncuestados\n",
    "intervaloSn <- c( p_hat - zp * sqrt( sigma2_hat / n) ,\n",
    "                  p_hat + zp * sqrt( sigma2_hat / n))\n",
    "intervaloSn"
   ]
  },
  {
   "cell_type": "code",
   "execution_count": 127,
   "metadata": {
    "ExecuteTime": {
     "end_time": "2019-11-07T01:08:59.272298Z",
     "start_time": "2019-11-07T01:08:59.245Z"
    }
   },
   "outputs": [
    {
     "data": {
      "text/html": [
       "0,0515734405457033"
      ],
      "text/latex": [
       "0,0515734405457033"
      ],
      "text/markdown": [
       "0,0515734405457033"
      ],
      "text/plain": [
       "[1] 0,05157344"
      ]
     },
     "metadata": {},
     "output_type": "display_data"
    },
    {
     "data": {
      "text/html": [
       "0,0515992466221473"
      ],
      "text/latex": [
       "0,0515992466221473"
      ],
      "text/markdown": [
       "0,0515992466221473"
      ],
      "text/plain": [
       "[1] 0,05159925"
      ]
     },
     "metadata": {},
     "output_type": "display_data"
    }
   ],
   "source": [
    "longitud_Intervalo_Bernoulli <- intervaloBer[2] - intervaloBer[1]\n",
    "longitud_Intervalo_Bernoulli\n",
    "\n",
    "longitud_Intervalo_VarMuestral <- intervaloSn[2] - intervaloSn[1]\n",
    "longitud_Intervalo_VarMuestral"
   ]
  },
  {
   "cell_type": "markdown",
   "metadata": {},
   "source": [
    "El **intervalo** que hace uso de que las variables aleatorias son **Bernoulli, es más pequeño**, y por ende, **preferible** por sobre **el que usa Varianza Muestral**.\n",
    "\n"
   ]
  },
  {
   "cell_type": "markdown",
   "metadata": {},
   "source": [
    "En papel calculé que para una longitud pedida de $0.02$ como máximo, debería encuestarse a $n \\geq 6534$ personas "
   ]
  },
  {
   "cell_type": "code",
   "execution_count": 128,
   "metadata": {
    "ExecuteTime": {
     "end_time": "2019-11-07T01:09:00.065404Z",
     "start_time": "2019-11-07T01:09:00.041Z"
    }
   },
   "outputs": [
    {
     "data": {
      "text/html": [
       "<table>\n",
       "<thead><tr><th scope=col>encuesta</th></tr></thead>\n",
       "<tbody>\n",
       "\t<tr><td>en contra</td></tr>\n",
       "\t<tr><td>en contra</td></tr>\n",
       "\t<tr><td>en contra</td></tr>\n",
       "\t<tr><td>en contra</td></tr>\n",
       "\t<tr><td>en contra</td></tr>\n",
       "\t<tr><td>en contra</td></tr>\n",
       "\t<tr><td>indeciso </td></tr>\n",
       "\t<tr><td>indeciso </td></tr>\n",
       "\t<tr><td>en contra</td></tr>\n",
       "\t<tr><td>indeciso </td></tr>\n",
       "</tbody>\n",
       "</table>\n"
      ],
      "text/latex": [
       "\\begin{tabular}{r|l}\n",
       " encuesta\\\\\n",
       "\\hline\n",
       "\t en contra\\\\\n",
       "\t en contra\\\\\n",
       "\t en contra\\\\\n",
       "\t en contra\\\\\n",
       "\t en contra\\\\\n",
       "\t en contra\\\\\n",
       "\t indeciso \\\\\n",
       "\t indeciso \\\\\n",
       "\t en contra\\\\\n",
       "\t indeciso \\\\\n",
       "\\end{tabular}\n"
      ],
      "text/markdown": [
       "\n",
       "| encuesta |\n",
       "|---|\n",
       "| en contra |\n",
       "| en contra |\n",
       "| en contra |\n",
       "| en contra |\n",
       "| en contra |\n",
       "| en contra |\n",
       "| indeciso  |\n",
       "| indeciso  |\n",
       "| en contra |\n",
       "| indeciso  |\n",
       "\n"
      ],
      "text/plain": [
       "   encuesta \n",
       "1  en contra\n",
       "2  en contra\n",
       "3  en contra\n",
       "4  en contra\n",
       "5  en contra\n",
       "6  en contra\n",
       "7  indeciso \n",
       "8  indeciso \n",
       "9  en contra\n",
       "10 indeciso "
      ]
     },
     "metadata": {},
     "output_type": "display_data"
    }
   ],
   "source": [
    "datos2 <- read.csv(\"./data/practica8/datos_Practica8_ej6_n_6534.csv\")\n",
    "head(datos, n=10)"
   ]
  },
  {
   "cell_type": "code",
   "execution_count": 129,
   "metadata": {
    "ExecuteTime": {
     "end_time": "2019-11-07T01:09:00.434873Z",
     "start_time": "2019-11-07T01:09:00.410Z"
    }
   },
   "outputs": [
    {
     "data": {
      "text/html": [
       "0,603917967554331"
      ],
      "text/latex": [
       "0,603917967554331"
      ],
      "text/markdown": [
       "0,603917967554331"
      ],
      "text/plain": [
       "[1] 0,603918"
      ]
     },
     "metadata": {},
     "output_type": "display_data"
    }
   ],
   "source": [
    "cantEncuestados <- length(datos2$encuesta)\n",
    "cantEnContra <- length(datos2$encuesta[datos2$encuesta == \"en contra\"])\n",
    "\n",
    "dataBernoulli <- rep(0, 6534)\n",
    "dataBernoulli[1:cantEnContra] <- 1\n",
    "\n",
    "p_hat <- cantEnContra / cantEncuestados\n",
    "p_hat"
   ]
  },
  {
   "cell_type": "code",
   "execution_count": 130,
   "metadata": {
    "ExecuteTime": {
     "end_time": "2019-11-07T01:09:00.643322Z",
     "start_time": "2019-11-07T01:09:00.616Z"
    }
   },
   "outputs": [
    {
     "data": {
      "text/html": [
       "<ol class=list-inline>\n",
       "\t<li>0,593965764277409</li>\n",
       "\t<li>0,613870170831254</li>\n",
       "</ol>\n"
      ],
      "text/latex": [
       "\\begin{enumerate*}\n",
       "\\item 0,593965764277409\n",
       "\\item 0,613870170831254\n",
       "\\end{enumerate*}\n"
      ],
      "text/markdown": [
       "1. 0,593965764277409\n",
       "2. 0,613870170831254\n",
       "\n",
       "\n"
      ],
      "text/plain": [
       "[1] 0,5939658 0,6138702"
      ]
     },
     "metadata": {},
     "output_type": "display_data"
    }
   ],
   "source": [
    "zp <- -qnorm(0.05)\n",
    "sigma2_hat <- p_hat * (1 - p_hat)\n",
    "n <- cantEncuestados\n",
    "intervaloBer <- c( p_hat - zp * sqrt( sigma2_hat / n) ,\n",
    "                   p_hat + zp * sqrt( sigma2_hat / n))\n",
    "intervaloBer"
   ]
  },
  {
   "cell_type": "code",
   "execution_count": 131,
   "metadata": {
    "ExecuteTime": {
     "end_time": "2019-11-07T01:09:01.114036Z",
     "start_time": "2019-11-07T01:09:01.092Z"
    }
   },
   "outputs": [
    {
     "data": {
      "text/html": [
       "0,0199044065538452"
      ],
      "text/latex": [
       "0,0199044065538452"
      ],
      "text/markdown": [
       "0,0199044065538452"
      ],
      "text/plain": [
       "[1] 0,01990441"
      ]
     },
     "metadata": {},
     "output_type": "display_data"
    }
   ],
   "source": [
    "longitud_Intervalo_Bernoulli <- intervaloBer[2] - intervaloBer[1]\n",
    "longitud_Intervalo_Bernoulli"
   ]
  },
  {
   "cell_type": "markdown",
   "metadata": {
    "ExecuteTime": {
     "end_time": "2019-11-07T01:05:59.776518Z",
     "start_time": "2019-11-07T01:05:59.751Z"
    }
   },
   "source": [
    "Que efectivamente es menor a $0.02$"
   ]
  },
  {
   "cell_type": "markdown",
   "metadata": {},
   "source": []
  }
 ],
 "metadata": {
  "kernelspec": {
   "display_name": "R",
   "language": "R",
   "name": "ir"
  },
  "language_info": {
   "codemirror_mode": "r",
   "file_extension": ".r",
   "mimetype": "text/x-r-source",
   "name": "R",
   "pygments_lexer": "r",
   "version": "3.6.0"
  },
  "toc": {
   "base_numbering": 1,
   "nav_menu": {},
   "number_sections": true,
   "sideBar": true,
   "skip_h1_title": false,
   "title_cell": "Table of Contents",
   "title_sidebar": "Contents",
   "toc_cell": false,
   "toc_position": {},
   "toc_section_display": true,
   "toc_window_display": false
  }
 },
 "nbformat": 4,
 "nbformat_minor": 2
}
