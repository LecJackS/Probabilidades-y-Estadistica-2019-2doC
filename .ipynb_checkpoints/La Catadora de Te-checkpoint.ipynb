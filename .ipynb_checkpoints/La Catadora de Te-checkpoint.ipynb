{
 "cells": [
  {
   "cell_type": "markdown",
   "metadata": {},
   "source": [
    "# La catadora de Té\n",
    "\n",
    "---\n",
    "\n",
    "Una señora afirma que al probar una taza de té con leche puede distinguir qué fue lo primero que se echó en la taza: el té o la leche.\n",
    "\n",
    "¿Cómo podríamos hacer un experimento para determinar si la señora sabe distinguir?\n",
    "\n",
    "Procuramos realizar un experimento que indique evindencia a favor de la señora.\n",
    "\n",
    "Para ello, procedemos de la siguiente manera: le damos **n = 12** tazas preparadas de diferentes maneras y contamos el número de veces que la mujer **acierta** el orden en el que fue preparado el té.\n",
    "\n",
    "Sea X la variable aleatoria que cuenta el ***número de aciertos en los n = 12 ensayos***."
   ]
  },
  {
   "cell_type": "markdown",
   "metadata": {},
   "source": [
    "1. ¿Qué **distribución** propone para la variable aleatoria X? ¿Cuáles son los parámetros de esta distribución?"
   ]
  },
  {
   "cell_type": "markdown",
   "metadata": {},
   "source": [
    "Dado que contamos **cantidad de aciertos sobre un total** conocido (n) sin considerar el órden, X será correctamente modelada con una **distribución Binomial** de parámetros **n=12** y **p=**\"probabilidad de acierto\":\n",
    "\n",
    "$X = \\text{\"# de aciertos en los 12 ensayos\"}$\n",
    "\n",
    "$$X \\sim Bin(12, p)$$\n",
    "\n",
    "Con función de probabilidad puntual:\n",
    "\n",
    "$$p_X(k) = {n \\choose k} * p^{k} * (1-p)^{n-k}$$"
   ]
  },
  {
   "cell_type": "markdown",
   "metadata": {},
   "source": [
    "2. ¿Cuál es la probabilidad de que acierte **las 12** tazas si responde al azar?\n",
    "\n",
    "   ¿Le daremos la oportunidad de **equivocarse**?\n",
    "\n",
    "   ¿Cuántas tazas serán suficientes para que **confiemos** en que la señora tiene la habilidad que ella afirma?\n",
    "\n",
    "Propongamos diferentes *reglas* que podemos utilizar para decidir que la señora es una entendida en el tema.\n",
    "\n",
    "* ***Criterio 0***: Determinamos que sabe si **acierta las 12** veces.\n",
    "* ***Criterio 1***: Determinamos que sabe si **acierta 11 o más** veces.\n",
    "* ***Criterio 2***: Determinamos que sabe si **acierta 10 o más** veces.\n",
    "* ***Criterio 3***: Determinamos que sabe si **acierta 9 o más** veces."
   ]
  },
  {
   "cell_type": "markdown",
   "metadata": {},
   "source": [
    "Defino función Binomial:"
   ]
  },
  {
   "cell_type": "code",
   "execution_count": 54,
   "metadata": {},
   "outputs": [],
   "source": [
    "f_binomial <- function(n=12, p=0.5, aciertos){\n",
    "    k = aciertos\n",
    "    choose(n, k) * p^k * (1.-p)^(n-k)\n",
    "}"
   ]
  },
  {
   "cell_type": "markdown",
   "metadata": {},
   "source": [
    "Calculo Binomial(12, 0.5) para exactamente 12 aciertos de los 12 intentos (Criterio 0)"
   ]
  },
  {
   "cell_type": "code",
   "execution_count": 57,
   "metadata": {},
   "outputs": [
    {
     "data": {
      "text/html": [
       "0.000244140625"
      ],
      "text/latex": [
       "0.000244140625"
      ],
      "text/markdown": [
       "0.000244140625"
      ],
      "text/plain": [
       "[1] 0.0002441406"
      ]
     },
     "metadata": {},
     "output_type": "display_data"
    }
   ],
   "source": [
    "f_binomial(n=12, p=0.5, aciertos=12)"
   ]
  },
  {
   "cell_type": "markdown",
   "metadata": {},
   "source": [
    "La probabilidad de que acierte las 12 tazas **si responde al azar** es de **0.0244%**: $P(X=12)=2.441 * 10^{-4}$\n",
    "\n",
    "\n",
    "También podemos interpretarlo como que ***si acierta las 12 tazas***, entonces:\n",
    "\n",
    "* es muy poco probable (**0.0244%**) de que haya elegido sus respuetas al azar\n",
    "* muy probablemente (**99.975%**) **NO sea una respuesta al azar**."
   ]
  },
  {
   "cell_type": "markdown",
   "metadata": {},
   "source": [
    "3. Supongamos que la señora responde al azar. Para cada uno de los criterios propuestos, calcule la probabilidad de que consideremos que la señora sabe."
   ]
  },
  {
   "cell_type": "markdown",
   "metadata": {},
   "source": [
    "Defino eventos:\n",
    "\n",
    "* $C_{0} = \\text{\"12 aciertos en los 12 ensayos (Criterio 0)\"}$\n",
    "* $C_{1} = \\text{\"al menos 11 aciertos en los 12 ensayos (Criterio 1)\"}$ \n",
    "* $C_{2} = \\text{\"al menos 10 aciertos en los 12 ensayos (Criterio 2)\"}$ \n",
    "* $C_{3} = \\text{\"al menos 9 aciertos en los 12 ensayos (Criterio 3)\"}$ "
   ]
  },
  {
   "cell_type": "markdown",
   "metadata": {},
   "source": [
    "Calculo probabilidades para cada evento a partir de la función de probabilidad puntual de una Binomial (12, 0.5):\n",
    "\n",
    "$P(C_i) = p_X(k) = {12 \\choose k} * 0.5^{k} * 0.5^{12-k}$"
   ]
  },
  {
   "cell_type": "markdown",
   "metadata": {},
   "source": [
    "### Criterio 0:\n",
    "\n",
    "$P(C_0) = p_X(12)$"
   ]
  },
  {
   "cell_type": "code",
   "execution_count": 58,
   "metadata": {},
   "outputs": [
    {
     "data": {
      "text/html": [
       "0.000244140625"
      ],
      "text/latex": [
       "0.000244140625"
      ],
      "text/markdown": [
       "0.000244140625"
      ],
      "text/plain": [
       "[1] 0.0002441406"
      ]
     },
     "metadata": {},
     "output_type": "display_data"
    }
   ],
   "source": [
    "PX12 = f_binomial(n=12, p=0.5, aciertos=12)\n",
    "\n",
    "PC0 = PX12\n",
    "PC0"
   ]
  },
  {
   "cell_type": "markdown",
   "metadata": {},
   "source": [
    "$P(C_0) = {12 \\choose 12} * 0.5^{12} * 0.5^0$\n",
    "\n",
    "$P(C_0) = 0.5^{12} $\n",
    "\n",
    "$P(C_0) = \\frac{1}{4096} \\approx 0.0002441$"
   ]
  },
  {
   "cell_type": "markdown",
   "metadata": {},
   "source": [
    "### Criterio 1:\n",
    "\n",
    "$P(C_1) = p_X(11) + p_X(12)$"
   ]
  },
  {
   "cell_type": "code",
   "execution_count": 62,
   "metadata": {},
   "outputs": [
    {
     "data": {
      "text/html": [
       "0.003173828125"
      ],
      "text/latex": [
       "0.003173828125"
      ],
      "text/markdown": [
       "0.003173828125"
      ],
      "text/plain": [
       "[1] 0.003173828"
      ]
     },
     "metadata": {},
     "output_type": "display_data"
    }
   ],
   "source": [
    "PX12 = f_binomial(n=12, p=0.5, aciertos=12)\n",
    "PX11 = f_binomial(n=12, p=0.5, aciertos=11)\n",
    "\n",
    "PC1 = PX11 + PX12\n",
    "PC1"
   ]
  },
  {
   "cell_type": "markdown",
   "metadata": {},
   "source": [
    "$P(C_1) = P(C_0) + {12 \\choose 11} * 0.5^{11} * 0.5^{1}$\n",
    "\n",
    "$P(C_1) = P(C_0) + {12 \\choose 11} * 0.5^{12}$\n",
    "\n",
    "$P(C_1) = \\frac{1}{4096} + 12 * \\frac{1}{4096}$\n",
    "\n",
    "$P(C_1) = 13 * \\frac{1}{4096} \\approx 0.003174$"
   ]
  },
  {
   "cell_type": "markdown",
   "metadata": {},
   "source": [
    "### Criterio 2:\n",
    "\n",
    "$P(C_2) = p_X(10) + p_X(11) + p_X(12)$"
   ]
  },
  {
   "cell_type": "code",
   "execution_count": 63,
   "metadata": {},
   "outputs": [
    {
     "data": {
      "text/html": [
       "0.019287109375"
      ],
      "text/latex": [
       "0.019287109375"
      ],
      "text/markdown": [
       "0.019287109375"
      ],
      "text/plain": [
       "[1] 0.01928711"
      ]
     },
     "metadata": {},
     "output_type": "display_data"
    }
   ],
   "source": [
    "PX12 = f_binomial(n=12, p=0.5, aciertos=12)\n",
    "PX11 = f_binomial(n=12, p=0.5, aciertos=11)\n",
    "PX10 = f_binomial(n=12, p=0.5, aciertos=10)\n",
    "\n",
    "PC2 = PX10 + PX11 + PX12\n",
    "PC2"
   ]
  },
  {
   "cell_type": "markdown",
   "metadata": {},
   "source": [
    "$P(C_2) = PC1 + {12 \\choose 10} * 0.5^{10} * 0.5^{2}$\n",
    "\n",
    "$P(C_2) = PC1 + {12 \\choose 10} * 0.5^{12}$\n",
    "\n",
    "$P(C_2) = 13 * \\frac{1}{4096} + 66 * \\frac{1}{4096} $\n",
    "\n",
    "$P(C_2) = 79 * \\frac{1}{4096} \\approx 0.01929$"
   ]
  },
  {
   "cell_type": "markdown",
   "metadata": {},
   "source": [
    "### Criterio 3:"
   ]
  },
  {
   "cell_type": "code",
   "execution_count": 48,
   "metadata": {},
   "outputs": [
    {
     "data": {
      "text/html": [
       "0.0537109375"
      ],
      "text/latex": [
       "0.0537109375"
      ],
      "text/markdown": [
       "0.0537109375"
      ],
      "text/plain": [
       "[1] 0.05371094"
      ]
     },
     "metadata": {},
     "output_type": "display_data"
    }
   ],
   "source": [
    "aciertos = 9\n",
    "f_binomial(n=12, p=0.5, aciertos=9)"
   ]
  },
  {
   "cell_type": "markdown",
   "metadata": {},
   "source": [
    "$P(C_3) = p_X(11) = {12 \\choose 11} * 0.5^{11} * 0.5^{1}$\n",
    "\n",
    "$P(C_3) = {12 \\choose 11} * 0.5^{12}$\n",
    "\n",
    "$P(C_3) = 220 * \\frac{1}{4096} \\approx 0.002930$"
   ]
  },
  {
   "cell_type": "code",
   "execution_count": null,
   "metadata": {},
   "outputs": [],
   "source": []
  },
  {
   "cell_type": "code",
   "execution_count": null,
   "metadata": {},
   "outputs": [],
   "source": []
  },
  {
   "cell_type": "code",
   "execution_count": null,
   "metadata": {},
   "outputs": [],
   "source": []
  },
  {
   "cell_type": "code",
   "execution_count": null,
   "metadata": {},
   "outputs": [],
   "source": []
  },
  {
   "cell_type": "code",
   "execution_count": null,
   "metadata": {},
   "outputs": [],
   "source": []
  },
  {
   "cell_type": "code",
   "execution_count": null,
   "metadata": {},
   "outputs": [],
   "source": []
  },
  {
   "cell_type": "markdown",
   "metadata": {},
   "source": [
    "4. Que criterio debemos utilizar si queremos que la probabildad de equivocarnos al decidir que sabe cuando en realidad responde al azar no sea superior el valor 0.02?\n",
    "\n"
   ]
  },
  {
   "cell_type": "markdown",
   "metadata": {},
   "source": [
    "5. Supongamos que la señora responde bien en 10 ocaciones. ¿Cuál es el criterio más exigente que nos permite decir que la señora sabe? ¿Cuál es la probabilidad de error de dicho criterio cuando en realidad responde al azar? ¿Cuál es la probabilidad de observar un valor tan o más grande que el observado, asumiendo que responde al azar?\n",
    "\n"
   ]
  },
  {
   "cell_type": "markdown",
   "metadata": {},
   "source": [
    "7. Si en realidad la señora tiene un verdadero don y acierta al orden en que se pone la leche y el té con probabilidad igual a 0.8.\n",
    "\n",
    "Para cada uno de los criterios propuestos, calcule la probabilidad de que consideremos que la señora sabe.\n",
    "\n",
    "Y si la probabilidad de acertar con el orden es 0.9, ¿como cambia la probabilidad de decidir que la señora sabe con cada uno de los criterios?"
   ]
  },
  {
   "cell_type": "markdown",
   "metadata": {},
   "source": []
  },
  {
   "cell_type": "markdown",
   "metadata": {},
   "source": []
  },
  {
   "cell_type": "markdown",
   "metadata": {},
   "source": []
  },
  {
   "cell_type": "markdown",
   "metadata": {},
   "source": []
  },
  {
   "cell_type": "markdown",
   "metadata": {},
   "source": []
  },
  {
   "cell_type": "markdown",
   "metadata": {},
   "source": []
  },
  {
   "cell_type": "markdown",
   "metadata": {},
   "source": []
  },
  {
   "cell_type": "markdown",
   "metadata": {},
   "source": []
  },
  {
   "cell_type": "markdown",
   "metadata": {},
   "source": []
  },
  {
   "cell_type": "markdown",
   "metadata": {},
   "source": []
  }
 ],
 "metadata": {
  "kernelspec": {
   "display_name": "R",
   "language": "R",
   "name": "ir"
  },
  "language_info": {
   "codemirror_mode": "r",
   "file_extension": ".r",
   "mimetype": "text/x-r-source",
   "name": "R",
   "pygments_lexer": "r",
   "version": "3.6.0"
  }
 },
 "nbformat": 4,
 "nbformat_minor": 2
}
