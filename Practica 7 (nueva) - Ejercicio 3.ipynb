{
 "cells": [
  {
   "attachments": {},
   "cell_type": "markdown",
   "metadata": {},
   "source": [
    "![3.png](./img/practica7/3ab.png)"
   ]
  },
  {
   "cell_type": "code",
   "execution_count": 2,
   "metadata": {
    "ExecuteTime": {
     "end_time": "2019-10-25T22:05:25.010869Z",
     "start_time": "2019-10-25T22:05:24.945Z"
    }
   },
   "outputs": [
    {
     "data": {
      "text/html": [
       "<ol class=list-inline>\n",
       "\t<li>210</li>\n",
       "\t<li>197</li>\n",
       "\t<li>187</li>\n",
       "\t<li>217</li>\n",
       "\t<li>194</li>\n",
       "\t<li>208</li>\n",
       "</ol>\n"
      ],
      "text/latex": [
       "\\begin{enumerate*}\n",
       "\\item 210\n",
       "\\item 197\n",
       "\\item 187\n",
       "\\item 217\n",
       "\\item 194\n",
       "\\item 208\n",
       "\\end{enumerate*}\n"
      ],
      "text/markdown": [
       "1. 210\n",
       "2. 197\n",
       "3. 187\n",
       "4. 217\n",
       "5. 194\n",
       "6. 208\n",
       "\n",
       "\n"
      ],
      "text/plain": [
       "[1] 210 197 187 217 194 208"
      ]
     },
     "metadata": {},
     "output_type": "display_data"
    }
   ],
   "source": [
    "X = c(210, 197, 187, 217, 194,\n",
    "      208, 220, 199, 193, 203,\n",
    "      181, 212, 188, 196, 185)\n",
    "head(X)"
   ]
  },
  {
   "cell_type": "markdown",
   "metadata": {},
   "source": [
    "Estimador de **Máxima Verosimilitud** de la **Media** $\\mu$: \n",
    "\n",
    "$$\\hat \\mu_{MV} = \\frac {\\sum_{i=1}^n X_i} n$$"
   ]
  },
  {
   "cell_type": "code",
   "execution_count": 3,
   "metadata": {
    "ExecuteTime": {
     "end_time": "2019-10-25T22:07:44.882460Z",
     "start_time": "2019-10-25T22:07:44.865Z"
    }
   },
   "outputs": [],
   "source": [
    "estimadorMediaMV <- function(x){\n",
    "    n <- length(x)\n",
    "    mu_hat <- sum(x)/n\n",
    "    return (mu_hat)\n",
    "}"
   ]
  },
  {
   "cell_type": "code",
   "execution_count": 5,
   "metadata": {
    "ExecuteTime": {
     "end_time": "2019-10-25T22:08:04.066997Z",
     "start_time": "2019-10-25T22:08:04.036Z"
    }
   },
   "outputs": [
    {
     "data": {
      "text/html": [
       "199.333333333333"
      ],
      "text/latex": [
       "199.333333333333"
      ],
      "text/markdown": [
       "199.333333333333"
      ],
      "text/plain": [
       "[1] 199.3333"
      ]
     },
     "metadata": {},
     "output_type": "display_data"
    },
    {
     "data": {
      "text/html": [
       "199.333333333333"
      ],
      "text/latex": [
       "199.333333333333"
      ],
      "text/markdown": [
       "199.333333333333"
      ],
      "text/plain": [
       "[1] 199.3333"
      ]
     },
     "metadata": {},
     "output_type": "display_data"
    }
   ],
   "source": [
    "estimadorMediaMV(X)\n",
    "mean(X)"
   ]
  },
  {
   "cell_type": "markdown",
   "metadata": {},
   "source": [
    "Estimador de **Máxima Verosimilitud** de la **Varianza** $\\sigma^2$ (*Sesgado*): \n",
    "\n",
    "$$\\hat \\mu_{MV} = \\frac {\\sum_{i=1}^n \\left(X_i - \\hat \\mu_{MV} \\right)^2} n$$"
   ]
  },
  {
   "cell_type": "code",
   "execution_count": 14,
   "metadata": {
    "ExecuteTime": {
     "end_time": "2019-10-25T22:14:32.469827Z",
     "start_time": "2019-10-25T22:14:32.457Z"
    }
   },
   "outputs": [],
   "source": [
    "estimadorVarMV <- function(x){\n",
    "    n <- length(x)\n",
    "    mu_hat <- estimadorMediaMV(x)\n",
    "    var_hat <- sum((x - mu_hat)**2)/n\n",
    "    return (var_hat)\n",
    "}"
   ]
  },
  {
   "cell_type": "code",
   "execution_count": 15,
   "metadata": {
    "ExecuteTime": {
     "end_time": "2019-10-25T22:14:33.045407Z",
     "start_time": "2019-10-25T22:14:33.024Z"
    }
   },
   "outputs": [
    {
     "data": {
      "text/html": [
       "133.955555555556"
      ],
      "text/latex": [
       "133.955555555556"
      ],
      "text/markdown": [
       "133.955555555556"
      ],
      "text/plain": [
       "[1] 133.9556"
      ]
     },
     "metadata": {},
     "output_type": "display_data"
    },
    {
     "data": {
      "text/html": [
       "143.52380952381"
      ],
      "text/latex": [
       "143.52380952381"
      ],
      "text/markdown": [
       "143.52380952381"
      ],
      "text/plain": [
       "[1] 143.5238"
      ]
     },
     "metadata": {},
     "output_type": "display_data"
    }
   ],
   "source": [
    "estimadorVarMV(X)\n",
    "var(X)"
   ]
  },
  {
   "cell_type": "markdown",
   "metadata": {},
   "source": [
    "Estimador de **Máxima Verosimilitud** de la **Varianza** $\\sigma^2$ (*Insesgado*): \n",
    "\n",
    "$$\\hat \\mu_{MV} = \\frac {\\sum_{i=1}^n \\left(X_i - \\hat \\mu_{MV} \\right)^2} {n-1}$$"
   ]
  },
  {
   "cell_type": "code",
   "execution_count": 16,
   "metadata": {
    "ExecuteTime": {
     "end_time": "2019-10-25T22:14:40.380354Z",
     "start_time": "2019-10-25T22:14:40.362Z"
    }
   },
   "outputs": [],
   "source": [
    "estimadorVarMVInsesgado <- function(x){\n",
    "    n <- length(x)\n",
    "    mu_hat <- estimadorMediaMV(x)\n",
    "    var_hat <- sum((x - mu_hat)**2)/(n-1)\n",
    "    return (var_hat)\n",
    "}"
   ]
  },
  {
   "cell_type": "code",
   "execution_count": 17,
   "metadata": {
    "ExecuteTime": {
     "end_time": "2019-10-25T22:14:46.236261Z",
     "start_time": "2019-10-25T22:14:46.211Z"
    }
   },
   "outputs": [
    {
     "data": {
      "text/html": [
       "143.52380952381"
      ],
      "text/latex": [
       "143.52380952381"
      ],
      "text/markdown": [
       "143.52380952381"
      ],
      "text/plain": [
       "[1] 143.5238"
      ]
     },
     "metadata": {},
     "output_type": "display_data"
    },
    {
     "data": {
      "text/html": [
       "143.52380952381"
      ],
      "text/latex": [
       "143.52380952381"
      ],
      "text/markdown": [
       "143.52380952381"
      ],
      "text/plain": [
       "[1] 143.5238"
      ]
     },
     "metadata": {},
     "output_type": "display_data"
    }
   ],
   "source": [
    "estimadorVarMVInsesgado(X)\n",
    "var(X)"
   ]
  },
  {
   "cell_type": "code",
   "execution_count": null,
   "metadata": {},
   "outputs": [],
   "source": []
  },
  {
   "attachments": {},
   "cell_type": "markdown",
   "metadata": {},
   "source": [
    "![3c.png](./img/practica7/3c.png)"
   ]
  },
  {
   "cell_type": "code",
   "execution_count": 19,
   "metadata": {
    "ExecuteTime": {
     "end_time": "2019-10-25T22:20:52.688249Z",
     "start_time": "2019-10-25T22:20:52.666Z"
    }
   },
   "outputs": [
    {
     "data": {
      "text/html": [
       "<ol class=list-inline>\n",
       "\t<li>25.11</li>\n",
       "\t<li>25.02</li>\n",
       "\t<li>25.16</li>\n",
       "\t<li>24.98</li>\n",
       "\t<li>24.83</li>\n",
       "\t<li>25.05</li>\n",
       "</ol>\n"
      ],
      "text/latex": [
       "\\begin{enumerate*}\n",
       "\\item 25.11\n",
       "\\item 25.02\n",
       "\\item 25.16\n",
       "\\item 24.98\n",
       "\\item 24.83\n",
       "\\item 25.05\n",
       "\\end{enumerate*}\n"
      ],
      "text/markdown": [
       "1. 25.11\n",
       "2. 25.02\n",
       "3. 25.16\n",
       "4. 24.98\n",
       "5. 24.83\n",
       "6. 25.05\n",
       "\n",
       "\n"
      ],
      "text/plain": [
       "[1] 25.11 25.02 25.16 24.98 24.83 25.05"
      ]
     },
     "metadata": {},
     "output_type": "display_data"
    }
   ],
   "source": [
    "X <- c(25.11, 25.02, 25.16, 24.98,\n",
    "       24.83, 25.05, 24.94, 25.04,\n",
    "       24.99, 24.96, 25.03, 24.97,\n",
    "       24.93, 25.12, 25.01, 25.12,\n",
    "       24.90, 24.98, 25.10, 24.96)\n",
    "head(X)"
   ]
  },
  {
   "cell_type": "code",
   "execution_count": 21,
   "metadata": {
    "ExecuteTime": {
     "end_time": "2019-10-25T22:25:08.845261Z",
     "start_time": "2019-10-25T22:25:08.821Z"
    }
   },
   "outputs": [
    {
     "data": {
      "text/html": [
       "25.01"
      ],
      "text/latex": [
       "25.01"
      ],
      "text/markdown": [
       "25.01"
      ],
      "text/plain": [
       "[1] 25.01"
      ]
     },
     "metadata": {},
     "output_type": "display_data"
    }
   ],
   "source": [
    "mu_hat <- estimadorMediaMV(X)\n",
    "mu_hat"
   ]
  },
  {
   "cell_type": "markdown",
   "metadata": {},
   "source": [
    "Notar que no usamos el dato de la varianza para estimar mu."
   ]
  },
  {
   "attachments": {
    "image.png": {
     "image/png": "[encoded data removed]"
    }
   },
   "cell_type": "markdown",
   "metadata": {},
   "source": [
    "![image.png](attachment:image.png)"
   ]
  },
  {
   "cell_type": "markdown",
   "metadata": {},
   "source": [
    "Varianza del error de medición $\\equiv$ Varianza que vemos en los datos\n",
    "\n",
    "OBS: Los datos no tienen varianza, la varianza observada en ellos corresponde completamente al error de medición."
   ]
  },
  {
   "cell_type": "code",
   "execution_count": 26,
   "metadata": {
    "ExecuteTime": {
     "end_time": "2019-10-25T22:53:22.998782Z",
     "start_time": "2019-10-25T22:53:22.982Z"
    }
   },
   "outputs": [
    {
     "data": {
      "text/html": [
       "<ol class=list-inline>\n",
       "\t<li>12.51</li>\n",
       "\t<li>11.66</li>\n",
       "\t<li>11.91</li>\n",
       "\t<li>12.25</li>\n",
       "\t<li>11.54</li>\n",
       "\t<li>11.36</li>\n",
       "</ol>\n"
      ],
      "text/latex": [
       "\\begin{enumerate*}\n",
       "\\item 12.51\n",
       "\\item 11.66\n",
       "\\item 11.91\n",
       "\\item 12.25\n",
       "\\item 11.54\n",
       "\\item 11.36\n",
       "\\end{enumerate*}\n"
      ],
      "text/markdown": [
       "1. 12.51\n",
       "2. 11.66\n",
       "3. 11.91\n",
       "4. 12.25\n",
       "5. 11.54\n",
       "6. 11.36\n",
       "\n",
       "\n"
      ],
      "text/plain": [
       "[1] 12.51 11.66 11.91 12.25 11.54 11.36"
      ]
     },
     "metadata": {},
     "output_type": "display_data"
    }
   ],
   "source": [
    "X <- c(12.51, 11.66, 11.91, 12.25, 11.54, 11.36,\n",
    "       12.40, 12.19, 12.88, 12.16, 12.69, 12.91,\n",
    "       12.12, 11.02, 12.53, 11.77, 12.72, 10.56,\n",
    "       11.52, 11.66, 12.25, 12.09, 11.48, 12.36)\n",
    "head(X)"
   ]
  },
  {
   "cell_type": "code",
   "execution_count": 30,
   "metadata": {
    "ExecuteTime": {
     "end_time": "2019-10-25T22:53:48.239509Z",
     "start_time": "2019-10-25T22:53:48.223Z"
    }
   },
   "outputs": [],
   "source": [
    "estimadorVarMVInsesgadoConMu <- function(x, mu){\n",
    "    n <- length(x)\n",
    "    var_hat <- sum((x - mu)**2)/(n-1)\n",
    "    return (var_hat)\n",
    "}"
   ]
  },
  {
   "cell_type": "code",
   "execution_count": null,
   "metadata": {},
   "outputs": [],
   "source": []
  },
  {
   "cell_type": "code",
   "execution_count": 37,
   "metadata": {
    "ExecuteTime": {
     "end_time": "2019-10-25T22:57:17.878963Z",
     "start_time": "2019-10-25T22:57:17.857Z"
    }
   },
   "outputs": [
    {
     "data": {
      "text/html": [
       "0.351521739130435"
      ],
      "text/latex": [
       "0.351521739130435"
      ],
      "text/markdown": [
       "0.351521739130435"
      ],
      "text/plain": [
       "[1] 0.3515217"
      ]
     },
     "metadata": {},
     "output_type": "display_data"
    }
   ],
   "source": [
    "# Varianza estimada para media conocida mu=12\n",
    "estimadorVarMVInsesgadoConMu(X, mu=12)"
   ]
  },
  {
   "cell_type": "code",
   "execution_count": 36,
   "metadata": {
    "ExecuteTime": {
     "end_time": "2019-10-25T22:56:50.106355Z",
     "start_time": "2019-10-25T22:56:50.089Z"
    }
   },
   "outputs": [
    {
     "data": {
      "text/html": [
       "0.35099347826087"
      ],
      "text/latex": [
       "0.35099347826087"
      ],
      "text/markdown": [
       "0.35099347826087"
      ],
      "text/plain": [
       "[1] 0.3509935"
      ]
     },
     "metadata": {},
     "output_type": "display_data"
    }
   ],
   "source": [
    "# Sin usar el dato de la media conocida mu=12\n",
    "var(X)"
   ]
  },
  {
   "cell_type": "markdown",
   "metadata": {},
   "source": [
    "---\n",
    "\n",
    "$$Fin$$\n",
    "\n",
    "---"
   ]
  },
  {
   "cell_type": "code",
   "execution_count": null,
   "metadata": {},
   "outputs": [],
   "source": []
  }
 ],
 "metadata": {
  "kernelspec": {
   "display_name": "R",
   "language": "R",
   "name": "ir"
  },
  "language_info": {
   "codemirror_mode": "r",
   "file_extension": ".r",
   "mimetype": "text/x-r-source",
   "name": "R",
   "pygments_lexer": "r",
   "version": "3.6.0"
  },
  "toc": {
   "base_numbering": 1,
   "nav_menu": {},
   "number_sections": true,
   "sideBar": true,
   "skip_h1_title": false,
   "title_cell": "Table of Contents",
   "title_sidebar": "Contents",
   "toc_cell": false,
   "toc_position": {},
   "toc_section_display": true,
   "toc_window_display": false
  }
 },
 "nbformat": 4,
 "nbformat_minor": 2
}
