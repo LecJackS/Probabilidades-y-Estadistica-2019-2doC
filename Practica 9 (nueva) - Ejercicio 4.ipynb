{
 "cells": [
  {
   "cell_type": "code",
   "execution_count": 1,
   "metadata": {
    "ExecuteTime": {
     "end_time": "2019-11-24T02:59:53.536741Z",
     "start_time": "2019-11-24T02:59:53.468Z"
    }
   },
   "outputs": [
    {
     "data": {
      "text/html": [
       "<ol class=list-inline>\n",
       "\t<li>5</li>\n",
       "\t<li>3</li>\n",
       "\t<li>4</li>\n",
       "\t<li>5</li>\n",
       "\t<li>5</li>\n",
       "\t<li>1</li>\n",
       "</ol>\n"
      ],
      "text/latex": [
       "\\begin{enumerate*}\n",
       "\\item 5\n",
       "\\item 3\n",
       "\\item 4\n",
       "\\item 5\n",
       "\\item 5\n",
       "\\item 1\n",
       "\\end{enumerate*}\n"
      ],
      "text/markdown": [
       "1. 5\n",
       "2. 3\n",
       "3. 4\n",
       "4. 5\n",
       "5. 5\n",
       "6. 1\n",
       "\n",
       "\n"
      ],
      "text/plain": [
       "[1] 5 3 4 5 5 1"
      ]
     },
     "metadata": {},
     "output_type": "display_data"
    }
   ],
   "source": [
    "data <- scan('./data/practica9/dado.txt')\n",
    "head(data)"
   ]
  },
  {
   "cell_type": "markdown",
   "metadata": {},
   "source": [
    "Visualizo los datos para tener una mejor idea:"
   ]
  },
  {
   "cell_type": "code",
   "execution_count": 31,
   "metadata": {
    "ExecuteTime": {
     "end_time": "2019-11-24T03:31:01.598726Z",
     "start_time": "2019-11-24T03:31:01.518Z"
    }
   },
   "outputs": [
    {
     "data": {
      "image/png": "[encoded data removed]",
      "text/plain": [
       "Plot with title “Histogram of data”"
      ]
     },
     "metadata": {},
     "output_type": "display_data"
    }
   ],
   "source": [
    "hist(data, col='steelblue')"
   ]
  },
  {
   "cell_type": "markdown",
   "metadata": {},
   "source": [
    "Si cada cara tiene proba 1/6, ***esperamos*** que salga cada cara:"
   ]
  },
  {
   "cell_type": "code",
   "execution_count": 33,
   "metadata": {
    "ExecuteTime": {
     "end_time": "2019-11-24T03:31:37.381397Z",
     "start_time": "2019-11-24T03:31:37.363Z"
    }
   },
   "outputs": [
    {
     "data": {
      "text/html": [
       "166,666666666667"
      ],
      "text/latex": [
       "166,666666666667"
      ],
      "text/markdown": [
       "166,666666666667"
      ],
      "text/plain": [
       "[1] 166,6667"
      ]
     },
     "metadata": {},
     "output_type": "display_data"
    }
   ],
   "source": [
    "1/6 * 1000"
   ]
  },
  {
   "cell_type": "markdown",
   "metadata": {},
   "source": [
    "**Cuento de cada:**"
   ]
  },
  {
   "cell_type": "code",
   "execution_count": 16,
   "metadata": {
    "ExecuteTime": {
     "end_time": "2019-11-24T03:05:10.727829Z",
     "start_time": "2019-11-24T03:05:10.705Z"
    }
   },
   "outputs": [
    {
     "data": {
      "text/html": [
       "1000"
      ],
      "text/latex": [
       "1000"
      ],
      "text/markdown": [
       "1000"
      ],
      "text/plain": [
       "[1] 1000"
      ]
     },
     "metadata": {},
     "output_type": "display_data"
    }
   ],
   "source": [
    "length(data)"
   ]
  },
  {
   "cell_type": "code",
   "execution_count": 23,
   "metadata": {
    "ExecuteTime": {
     "end_time": "2019-11-24T03:07:15.750588Z",
     "start_time": "2019-11-24T03:07:15.728Z"
    }
   },
   "outputs": [
    {
     "data": {
      "text/html": [
       "<ol class=list-inline>\n",
       "\t<li>1</li>\n",
       "\t<li>1</li>\n",
       "\t<li>1</li>\n",
       "\t<li>1</li>\n",
       "\t<li>1</li>\n",
       "\t<li>1</li>\n",
       "</ol>\n"
      ],
      "text/latex": [
       "\\begin{enumerate*}\n",
       "\\item 1\n",
       "\\item 1\n",
       "\\item 1\n",
       "\\item 1\n",
       "\\item 1\n",
       "\\item 1\n",
       "\\end{enumerate*}\n"
      ],
      "text/markdown": [
       "1. 1\n",
       "2. 1\n",
       "3. 1\n",
       "4. 1\n",
       "5. 1\n",
       "6. 1\n",
       "\n",
       "\n"
      ],
      "text/plain": [
       "[1] 1 1 1 1 1 1"
      ]
     },
     "metadata": {},
     "output_type": "display_data"
    }
   ],
   "source": [
    "ident <- rep(1, length(data))\n",
    "head(ident)"
   ]
  },
  {
   "cell_type": "markdown",
   "metadata": {},
   "source": [
    "* Cantidades:"
   ]
  },
  {
   "cell_type": "code",
   "execution_count": 24,
   "metadata": {
    "ExecuteTime": {
     "end_time": "2019-11-24T03:07:16.151184Z",
     "start_time": "2019-11-24T03:07:16.100Z"
    }
   },
   "outputs": [
    {
     "data": {
      "text/html": [
       "74"
      ],
      "text/latex": [
       "74"
      ],
      "text/markdown": [
       "74"
      ],
      "text/plain": [
       "[1] 74"
      ]
     },
     "metadata": {},
     "output_type": "display_data"
    },
    {
     "data": {
      "text/html": [
       "256"
      ],
      "text/latex": [
       "256"
      ],
      "text/markdown": [
       "256"
      ],
      "text/plain": [
       "[1] 256"
      ]
     },
     "metadata": {},
     "output_type": "display_data"
    },
    {
     "data": {
      "text/html": [
       "164"
      ],
      "text/latex": [
       "164"
      ],
      "text/markdown": [
       "164"
      ],
      "text/plain": [
       "[1] 164"
      ]
     },
     "metadata": {},
     "output_type": "display_data"
    },
    {
     "data": {
      "text/html": [
       "92"
      ],
      "text/latex": [
       "92"
      ],
      "text/markdown": [
       "92"
      ],
      "text/plain": [
       "[1] 92"
      ]
     },
     "metadata": {},
     "output_type": "display_data"
    },
    {
     "data": {
      "text/html": [
       "247"
      ],
      "text/latex": [
       "247"
      ],
      "text/markdown": [
       "247"
      ],
      "text/plain": [
       "[1] 247"
      ]
     },
     "metadata": {},
     "output_type": "display_data"
    },
    {
     "data": {
      "text/html": [
       "167"
      ],
      "text/latex": [
       "167"
      ],
      "text/markdown": [
       "167"
      ],
      "text/plain": [
       "[1] 167"
      ]
     },
     "metadata": {},
     "output_type": "display_data"
    }
   ],
   "source": [
    "sum(ident[data == 1])\n",
    "sum(ident[data == 2])\n",
    "sum(ident[data == 3])\n",
    "sum(ident[data == 4])\n",
    "sum(ident[data == 5])\n",
    "sum(ident[data == 6])"
   ]
  },
  {
   "cell_type": "markdown",
   "metadata": {},
   "source": [
    "### Cantidad par\n",
    "\n",
    "$Binomial(1000, \\frac 1 2)$"
   ]
  },
  {
   "cell_type": "code",
   "execution_count": 29,
   "metadata": {
    "ExecuteTime": {
     "end_time": "2019-11-24T03:22:28.433571Z",
     "start_time": "2019-11-24T03:22:28.407Z"
    }
   },
   "outputs": [
    {
     "data": {
      "text/html": [
       "515"
      ],
      "text/latex": [
       "515"
      ],
      "text/markdown": [
       "515"
      ],
      "text/plain": [
       "[1] 515"
      ]
     },
     "metadata": {},
     "output_type": "display_data"
    },
    {
     "data": {
      "text/html": [
       "485"
      ],
      "text/latex": [
       "485"
      ],
      "text/markdown": [
       "485"
      ],
      "text/plain": [
       "[1] 485"
      ]
     },
     "metadata": {},
     "output_type": "display_data"
    }
   ],
   "source": [
    "sum(ident[data %% 2 == 0])\n",
    "sum(ident[data %% 2 == 1])"
   ]
  },
  {
   "cell_type": "code",
   "execution_count": 36,
   "metadata": {
    "ExecuteTime": {
     "end_time": "2019-11-24T03:38:23.544009Z",
     "start_time": "2019-11-24T03:38:23.528Z"
    }
   },
   "outputs": [],
   "source": [
    "n <- length(data)\n",
    "p <- 0.5"
   ]
  },
  {
   "cell_type": "code",
   "execution_count": 37,
   "metadata": {
    "ExecuteTime": {
     "end_time": "2019-11-24T03:38:23.855494Z",
     "start_time": "2019-11-24T03:38:23.827Z"
    }
   },
   "outputs": [
    {
     "data": {
      "text/html": [
       "0,948683298050515"
      ],
      "text/latex": [
       "0,948683298050515"
      ],
      "text/markdown": [
       "0,948683298050515"
      ],
      "text/plain": [
       "[1] 0,9486833"
      ]
     },
     "metadata": {},
     "output_type": "display_data"
    }
   ],
   "source": [
    "\n",
    "cantPar <- sum(ident[data %% 2 == 0])\n",
    "p_hat <- cantPar/n\n",
    "\n",
    "(p_hat-p) / sqrt( p*(1-p) / n )"
   ]
  },
  {
   "cell_type": "markdown",
   "metadata": {},
   "source": [
    "### Menor o igual a 3\n",
    "$Binomial(1000, \\frac 1 2)$"
   ]
  },
  {
   "cell_type": "code",
   "execution_count": 38,
   "metadata": {
    "ExecuteTime": {
     "end_time": "2019-11-24T03:38:24.589587Z",
     "start_time": "2019-11-24T03:38:24.568Z"
    }
   },
   "outputs": [
    {
     "data": {
      "text/html": [
       "494"
      ],
      "text/latex": [
       "494"
      ],
      "text/markdown": [
       "494"
      ],
      "text/plain": [
       "[1] 494"
      ]
     },
     "metadata": {},
     "output_type": "display_data"
    },
    {
     "data": {
      "text/html": [
       "506"
      ],
      "text/latex": [
       "506"
      ],
      "text/markdown": [
       "506"
      ],
      "text/plain": [
       "[1] 506"
      ]
     },
     "metadata": {},
     "output_type": "display_data"
    }
   ],
   "source": [
    "sum(ident[data <= 3])\n",
    "sum(ident[data > 3])"
   ]
  },
  {
   "cell_type": "code",
   "execution_count": 40,
   "metadata": {
    "ExecuteTime": {
     "end_time": "2019-11-24T03:38:38.355801Z",
     "start_time": "2019-11-24T03:38:38.335Z"
    }
   },
   "outputs": [
    {
     "data": {
      "text/html": [
       "-0,379473319220206"
      ],
      "text/latex": [
       "-0,379473319220206"
      ],
      "text/markdown": [
       "-0,379473319220206"
      ],
      "text/plain": [
       "[1] -0,3794733"
      ]
     },
     "metadata": {},
     "output_type": "display_data"
    }
   ],
   "source": [
    "cantMenorTres <- sum(ident[data <= 3])\n",
    "p_hat <- cantMenorTres/n\n",
    "\n",
    "(p_hat-p) / sqrt( p*(1-p) / n )"
   ]
  },
  {
   "cell_type": "markdown",
   "metadata": {},
   "source": [
    "### Exactamente 3\n",
    "$Binomial(1000, \\frac 1 6)$"
   ]
  },
  {
   "cell_type": "code",
   "execution_count": 46,
   "metadata": {
    "ExecuteTime": {
     "end_time": "2019-11-24T03:40:54.735412Z",
     "start_time": "2019-11-24T03:40:54.718Z"
    }
   },
   "outputs": [],
   "source": [
    "p <- 1/6"
   ]
  },
  {
   "cell_type": "code",
   "execution_count": 47,
   "metadata": {
    "ExecuteTime": {
     "end_time": "2019-11-24T03:40:55.521623Z",
     "start_time": "2019-11-24T03:40:55.501Z"
    }
   },
   "outputs": [
    {
     "data": {
      "text/html": [
       "164"
      ],
      "text/latex": [
       "164"
      ],
      "text/markdown": [
       "164"
      ],
      "text/plain": [
       "[1] 164"
      ]
     },
     "metadata": {},
     "output_type": "display_data"
    },
    {
     "data": {
      "text/html": [
       "836"
      ],
      "text/latex": [
       "836"
      ],
      "text/markdown": [
       "836"
      ],
      "text/plain": [
       "[1] 836"
      ]
     },
     "metadata": {},
     "output_type": "display_data"
    }
   ],
   "source": [
    "sum(ident[data == 3])\n",
    "sum(ident[data < 3 | data > 3])"
   ]
  },
  {
   "cell_type": "code",
   "execution_count": 48,
   "metadata": {
    "ExecuteTime": {
     "end_time": "2019-11-24T03:40:56.159133Z",
     "start_time": "2019-11-24T03:40:56.136Z"
    }
   },
   "outputs": [
    {
     "data": {
      "text/html": [
       "-0,226274169979694"
      ],
      "text/latex": [
       "-0,226274169979694"
      ],
      "text/markdown": [
       "-0,226274169979694"
      ],
      "text/plain": [
       "[1] -0,2262742"
      ]
     },
     "metadata": {},
     "output_type": "display_data"
    }
   ],
   "source": [
    "cantTres <- sum(ident[data == 3])\n",
    "p_hat <- cantTres/n\n",
    "\n",
    "(p_hat-p) / sqrt( p*(1-p) / n )"
   ]
  },
  {
   "cell_type": "markdown",
   "metadata": {},
   "source": [
    "### Exactamente 2\n",
    "$Binomial(1000, \\frac 1 6)$"
   ]
  },
  {
   "cell_type": "code",
   "execution_count": 49,
   "metadata": {
    "ExecuteTime": {
     "end_time": "2019-11-24T03:41:38.894281Z",
     "start_time": "2019-11-24T03:41:38.871Z"
    }
   },
   "outputs": [
    {
     "data": {
      "text/html": [
       "256"
      ],
      "text/latex": [
       "256"
      ],
      "text/markdown": [
       "256"
      ],
      "text/plain": [
       "[1] 256"
      ]
     },
     "metadata": {},
     "output_type": "display_data"
    },
    {
     "data": {
      "text/html": [
       "744"
      ],
      "text/latex": [
       "744"
      ],
      "text/markdown": [
       "744"
      ],
      "text/plain": [
       "[1] 744"
      ]
     },
     "metadata": {},
     "output_type": "display_data"
    }
   ],
   "source": [
    "sum(ident[data == 2])\n",
    "sum(ident[data < 2 | data > 2])"
   ]
  },
  {
   "cell_type": "code",
   "execution_count": 50,
   "metadata": {
    "ExecuteTime": {
     "end_time": "2019-11-24T03:42:03.197987Z",
     "start_time": "2019-11-24T03:42:03.175Z"
    }
   },
   "outputs": [
    {
     "data": {
      "text/html": [
       "7,58018469431979"
      ],
      "text/latex": [
       "7,58018469431979"
      ],
      "text/markdown": [
       "7,58018469431979"
      ],
      "text/plain": [
       "[1] 7,580185"
      ]
     },
     "metadata": {},
     "output_type": "display_data"
    }
   ],
   "source": [
    "cantDos <- sum(ident[data == 2])\n",
    "p_hat <- cantDos/n\n",
    "\n",
    "(p_hat-p) / sqrt( p*(1-p) / n )"
   ]
  },
  {
   "cell_type": "markdown",
   "metadata": {},
   "source": [
    "$\\uparrow$ Ahi si, eh! "
   ]
  },
  {
   "cell_type": "markdown",
   "metadata": {},
   "source": [
    "La moraleja de la historia es que no importa si hiciste un millón de tests de mierda, lo importante es hacerse la pregunta indicada."
   ]
  },
  {
   "cell_type": "markdown",
   "metadata": {},
   "source": [
    "![](https://media.giphy.com/media/WLbtNNR5TKJBS/giphy.gif)"
   ]
  },
  {
   "cell_type": "markdown",
   "metadata": {
    "ExecuteTime": {
     "end_time": "2019-11-24T04:13:50.717993Z",
     "start_time": "2019-11-24T04:13:50.680Z"
    }
   },
   "source": [
    "Lo más exhaustivo sería hacer un test por cara, preguntando por cada valor particular posible, hasta encontrar uno en la zona de rechazo, o hasta agotar todas las posibilidades."
   ]
  },
  {
   "cell_type": "code",
   "execution_count": 53,
   "metadata": {
    "ExecuteTime": {
     "end_time": "2019-11-24T04:15:46.900173Z",
     "start_time": "2019-11-24T04:15:46.837Z"
    }
   },
   "outputs": [
    {
     "data": {
      "text/html": [
       "-7,86302740679441"
      ],
      "text/latex": [
       "-7,86302740679441"
      ],
      "text/markdown": [
       "-7,86302740679441"
      ],
      "text/plain": [
       "[1] -7,863027"
      ]
     },
     "metadata": {},
     "output_type": "display_data"
    },
    {
     "data": {
      "text/html": [
       "7,58018469431979"
      ],
      "text/latex": [
       "7,58018469431979"
      ],
      "text/markdown": [
       "7,58018469431979"
      ],
      "text/plain": [
       "[1] 7,580185"
      ]
     },
     "metadata": {},
     "output_type": "display_data"
    },
    {
     "data": {
      "text/html": [
       "-0,226274169979694"
      ],
      "text/latex": [
       "-0,226274169979694"
      ],
      "text/markdown": [
       "-0,226274169979694"
      ],
      "text/plain": [
       "[1] -0,2262742"
      ]
     },
     "metadata": {},
     "output_type": "display_data"
    },
    {
     "data": {
      "text/html": [
       "-6,33567675943147"
      ],
      "text/latex": [
       "-6,33567675943147"
      ],
      "text/markdown": [
       "-6,33567675943147"
      ],
      "text/plain": [
       "[1] -6,335677"
      ]
     },
     "metadata": {},
     "output_type": "display_data"
    },
    {
     "data": {
      "text/html": [
       "6,81650937063832"
      ],
      "text/latex": [
       "6,81650937063832"
      ],
      "text/markdown": [
       "6,81650937063832"
      ],
      "text/plain": [
       "[1] 6,816509"
      ]
     },
     "metadata": {},
     "output_type": "display_data"
    },
    {
     "data": {
      "text/html": [
       "0,0282842712474635"
      ],
      "text/latex": [
       "0,0282842712474635"
      ],
      "text/markdown": [
       "0,0282842712474635"
      ],
      "text/plain": [
       "[1] 0,02828427"
      ]
     },
     "metadata": {},
     "output_type": "display_data"
    }
   ],
   "source": [
    "cant <- sum(ident[data == 1])\n",
    "p_hat <- cant/n\n",
    "(p_hat-p) / sqrt( p*(1-p) / n )\n",
    "\n",
    "cant <- sum(ident[data == 2])\n",
    "p_hat <- cant/n\n",
    "(p_hat-p) / sqrt( p*(1-p) / n )\n",
    "\n",
    "cant <- sum(ident[data == 3])\n",
    "p_hat <- cant/n\n",
    "(p_hat-p) / sqrt( p*(1-p) / n )\n",
    "\n",
    "cant <- sum(ident[data == 4])\n",
    "p_hat <- cant/n\n",
    "(p_hat-p) / sqrt( p*(1-p) / n )\n",
    "\n",
    "cant <- sum(ident[data == 5])\n",
    "p_hat <- cant/n\n",
    "(p_hat-p) / sqrt( p*(1-p) / n )\n",
    "\n",
    "cant <- sum(ident[data == 6])\n",
    "p_hat <- cant/n\n",
    "(p_hat-p) / sqrt( p*(1-p) / n )"
   ]
  },
  {
   "cell_type": "markdown",
   "metadata": {},
   "source": [
    "1,2,4 y 5 son los valores con los que rechazariamos los tests, que son los más alejados del valor de la proba equilibrada $\\hat p_n = \\frac 1 6$ para cualquier cara."
   ]
  },
  {
   "cell_type": "code",
   "execution_count": 56,
   "metadata": {
    "ExecuteTime": {
     "end_time": "2019-11-24T04:19:12.770555Z",
     "start_time": "2019-11-24T04:19:12.705Z"
    }
   },
   "outputs": [
    {
     "data": {
      "text/html": [
       "74"
      ],
      "text/latex": [
       "74"
      ],
      "text/markdown": [
       "74"
      ],
      "text/plain": [
       "[1] 74"
      ]
     },
     "metadata": {},
     "output_type": "display_data"
    },
    {
     "data": {
      "text/html": [
       "256"
      ],
      "text/latex": [
       "256"
      ],
      "text/markdown": [
       "256"
      ],
      "text/plain": [
       "[1] 256"
      ]
     },
     "metadata": {},
     "output_type": "display_data"
    },
    {
     "data": {
      "text/html": [
       "164"
      ],
      "text/latex": [
       "164"
      ],
      "text/markdown": [
       "164"
      ],
      "text/plain": [
       "[1] 164"
      ]
     },
     "metadata": {},
     "output_type": "display_data"
    },
    {
     "data": {
      "text/html": [
       "92"
      ],
      "text/latex": [
       "92"
      ],
      "text/markdown": [
       "92"
      ],
      "text/plain": [
       "[1] 92"
      ]
     },
     "metadata": {},
     "output_type": "display_data"
    },
    {
     "data": {
      "text/html": [
       "247"
      ],
      "text/latex": [
       "247"
      ],
      "text/markdown": [
       "247"
      ],
      "text/plain": [
       "[1] 247"
      ]
     },
     "metadata": {},
     "output_type": "display_data"
    },
    {
     "data": {
      "text/html": [
       "167"
      ],
      "text/latex": [
       "167"
      ],
      "text/markdown": [
       "167"
      ],
      "text/plain": [
       "[1] 167"
      ]
     },
     "metadata": {},
     "output_type": "display_data"
    },
    {
     "data": {
      "text/html": [
       "166,666666666667"
      ],
      "text/latex": [
       "166,666666666667"
      ],
      "text/markdown": [
       "166,666666666667"
      ],
      "text/plain": [
       "[1] 166,6667"
      ]
     },
     "metadata": {},
     "output_type": "display_data"
    }
   ],
   "source": [
    "sum(ident[data == 1])\n",
    "sum(ident[data == 2])\n",
    "sum(ident[data == 3])\n",
    "sum(ident[data == 4])\n",
    "sum(ident[data == 5])\n",
    "sum(ident[data == 6])\n",
    "\n",
    "1/6*1000"
   ]
  },
  {
   "cell_type": "code",
   "execution_count": 61,
   "metadata": {
    "ExecuteTime": {
     "end_time": "2019-11-24T04:21:39.357613Z",
     "start_time": "2019-11-24T04:21:39.294Z"
    }
   },
   "outputs": [
    {
     "data": {
      "image/png": "[encoded data removed]",
      "text/plain": [
       "Plot with title “Histogram of data”"
      ]
     },
     "metadata": {},
     "output_type": "display_data"
    }
   ],
   "source": [
    "hist(data, col='steelblue')\n",
    "abline(h=1/6*1000, col='orange')"
   ]
  },
  {
   "cell_type": "code",
   "execution_count": null,
   "metadata": {},
   "outputs": [],
   "source": []
  }
 ],
 "metadata": {
  "kernelspec": {
   "display_name": "R",
   "language": "R",
   "name": "ir"
  },
  "language_info": {
   "codemirror_mode": "r",
   "file_extension": ".r",
   "mimetype": "text/x-r-source",
   "name": "R",
   "pygments_lexer": "r",
   "version": "3.6.0"
  },
  "toc": {
   "base_numbering": 1,
   "nav_menu": {},
   "number_sections": true,
   "sideBar": true,
   "skip_h1_title": false,
   "title_cell": "Table of Contents",
   "title_sidebar": "Contents",
   "toc_cell": false,
   "toc_position": {},
   "toc_section_display": true,
   "toc_window_display": false
  }
 },
 "nbformat": 4,
 "nbformat_minor": 2
}
